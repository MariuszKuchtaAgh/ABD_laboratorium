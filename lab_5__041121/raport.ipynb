{
 "cells": [
  {
   "cell_type": "markdown",
   "metadata": {},
   "source": [
    "# <center>Laboratorium Analiza i bazy danych </center>\n",
    "\n",
    "## <center>Łańcuchy znaków i wyrażenia regularne</center>"
   ]
  },
  {
   "cell_type": "markdown",
   "metadata": {
    "pycharm": {
     "name": "#%% md\n"
    }
   },
   "source": [
    "## Wprowadzenie\n",
    "\n",
    "W każdym silniku baz danych istnieją mechanizmy do porównywania, dopasowywania i manipulowania ciągami znaków (*string*). \n",
    "\n",
    "Oprócz podstawowej funkcjonalności polegającej na odpowiedzi na pytanie „czy ten ciąg pasuje do tego wzoru?” w bazach danych istnieją operatory i funkcje do wyodrębniania, zastępowania i podziałów pasujących podciągów do wzorca podanego przez użytkownika.\n",
    "\n",
    "\n",
    "Istnieją trzy osobne podejścia do dopasowywania wzorców zapewniane przez PostgreSQL:  \n",
    "- LIKE/ILIKE, \n",
    "- SIMILAR TO (standard SQL:1999),  \n",
    "- wyrażenia regularne w stylu POSIX. \n",
    "\n",
    "Ten dokument ma na celu przybliżenie podstawowych funkcji działania na ciągach znakowych w PostgreSQL."
   ]
  },
  {
   "cell_type": "markdown",
   "metadata": {},
   "source": [
    "## LIKE/ILIKE\n",
    "\n",
    "Wyrażenie LIKE zwraca wartość *true*, jeśli ciąg znaków odpowiada dokładnie podanemu wzorcowi. ILIKE natomiast to klauzula umożliwiająca dopasowanie wzorca jednak nie zwraca ona uwagę na wielkość liter. Wyrażeniem przeciwnym jest NOT LIKE lub NOT ILIKE. Składnia tego wyrażenia to:\n",
    "\n",
    "string (LIKE|ILIKE) wzorzec,\n",
    "string NOT (LIKE|ILIKE) wzorzec\n",
    "\n",
    "Przy tym typie klauzuli wzorce tworzymy przy użyciu dwóch operatorów:\n",
    "- _ - zastępuje pojedynczy znak,\n",
    "- % - zastępuje dowolną długość znaków.\n",
    "\n",
    "#### Przykład:\n",
    "|Wyrażenie|Wynik|\n",
    "|---|---:|\n",
    "|'abc' LIKE 'abc'|   true|  \n",
    "|'abc' LIKE 'a%'|    true|  \n",
    "|'abc' LIKE '_b_'|   true|  \n",
    "|'abc' LIKE 'c'   |   false|  \n",
    "|'ABC' ILIKE 'abc'|   true | \n",
    "|'ABC' LIKE 'abc'|    false| \n",
    "\n",
    "Klauzule LIKE/ILIKE można zastąpić operatorami:\n",
    "- ~~ równoważny do LIKE\n",
    "- ~~\\*  równoważny do ILIKE  \n",
    "- !~~  równoważny do LIKE  \n",
    "- !~~\\* równoważny do NOT ILIKE"
   ]
  },
  {
   "cell_type": "markdown",
   "metadata": {},
   "source": [
    "## SIMILAR TO\n",
    "Klauzula SIMILAR TO tak samo jak LIKE/ILIKE zwraca wartość *true* lub *false* w zależności od tego, czy podany wzorzec pasuje do podanego ciągu. Różnica pomiędzy tymi operatorami polega na tym, że SIMILAR TO interpretuje wzorzec za pomocą definicji wyrażenia regularnego w standardzie SQL. Wyrażenia regularne SQL są połączeniem notacji LIKE i zwykłej notacji wyrażeń regularnych (POSIX).\n",
    "\n",
    "Składnia tego zapytania ma postać:\n",
    "\n",
    "string SIMILAR TO wzorzec,\n",
    "string NOT SIMILAR TO wzorzec\n",
    "\n",
    "Oprócz funkcji zapożyczonych z LIKE, SIMILAR TO obsługuje te metaznaki pasujące do wzorca zapożyczone z wyrażeń regularnych POSIX:\n",
    "\n",
    "- \\| - oznacza naprzemienność (jedną z dwóch alternatyw).\n",
    "- \\* - oznacza powtórzenie poprzedniego elementu zero lub więcej razy.\n",
    "- \\+ - oznacza powtórzenie poprzedniego elementu jeden lub więcej razy.\n",
    "- \\? - oznacza powtórzenie poprzedniego elementu zero lub jeden raz.\n",
    "- {m} - oznacza powtórzenie poprzedniego elementu dokładnie m razy.\n",
    "- {m,} - oznacza powtórzenie poprzedniego elementu m lub więcej razy.\n",
    "- {m, n} - oznacza powtórzenie poprzedniego elementu co najmniej mi nie więcej niż n razy.\n",
    "\n",
    "Nawiasów () można używać do grupowania elementów w jeden element logiczny. Wyrażenie w nawiasie \\[...\\] określa klasę znaków, podobnie jak w wyrażeniach regularnych POSIX.\n",
    "\n",
    "|Wyrażenie|Wynik|\n",
    "|---|---:|\n",
    "|'abc' SIMILAR TO 'abc'|     true|\n",
    "|'abc' SIMILAR TO 'a'|        false|\n",
    "|'abc' SIMILAR TO '%(b\\|d)%'| true|\n",
    "|'abc' SIMILAR TO '(b\\|c)%'|   false|"
   ]
  },
  {
   "cell_type": "markdown",
   "metadata": {},
   "source": [
    "## Składnia POSIX\n",
    "\n",
    "Wyrażenia regularne POSIX zapewniają więcej reguł tworzenia wzorców niż operatory LIKE i SIMILAR TO. Wiele narzędzi uniksowych, takich jak grep, sed lub awk, używa języka dopasowywania wzorców podobnego do tego używanego w PostgreSQL.\n",
    "\n",
    "Wyrażenie regularne to opis ciągu znaków przy użyciu symboli w celu utworzenia wzorca ciągu, która umożliwia dopasowanie wzorców. Mówi się, że łańcuch pasuje do wyrażenia regularnego, jeśli jest on członkiem zbioru regularnego opisanego przez wyrażenie regularne. Podobnie jak w przypadku LIKE, znaki wzorcowe dokładnie pasują do znaków łańcuchowych, chyba że są znakami specjalnymi w języku wyrażeń regularnych - ale wyrażenia regularne używają innych znaków specjalnych niż LIKE. W przeciwieństwie do wzorców LIKE, wyrażenie regularne może pasować w dowolnym miejscu ciągu, chyba że wyrażenie regularne jest wyraźnie zakotwiczone na początku (^) lub na końcu łańcucha ($).\n",
    "\n",
    "Używanie tego rodzaju dopasowania ciągu znaków odbywa się przez operatory:\n",
    "\n",
    "- ~\tpasuje do wzorca , wielkość liter ma znaczenie\n",
    "- ~\\*\tpasuje do wzorca , wielkość liter nie ma znaczenie\t\n",
    "- !~\tnie pasuje do wzorca , wielkość liter ma znaczenie\t\n",
    "- !~\\*\tnie pasuje do wzorca , wielkość liter nie ma znaczenie\n",
    "\n",
    "#### Przykład:\n",
    "|Wyrażenie|Wynik|\n",
    "|---|---:|\n",
    "|'abc' ~ 'abc'|    true|\n",
    "|'abc' ~ '^a' |    true|\n",
    "|'abc' ~ '(b\\|d)'|  true|\n",
    "|'abc' ~ '^(b\\|c)'| false|\n",
    "\n",
    "Język zapytań regularnych w PostgreSQL który będzie omawiany na zajęciach składa się z:\n",
    "\n",
    "|Wzorzec|Dopasowanie|\n",
    "|---|---|\n",
    "|\\* |sekwencja 0 lub więcej dopasowań atomu|\n",
    "|\\+ |sekwencja 1 lub więcej dopasowań atomu|\n",
    "|\\? |sekwencja 0 lub 1 dopasowań atomu\n",
    "|{m.} |sekwencja dokładnie m dopasowań atomu|\n",
    "|{m,} |sekwencja m lub więcej dopasowań atomu|\n",
    "|{m, n}| sekwencja od m do n (włącznie) dopasowań atomu; m nie może przekraczać n|\n",
    "|^| dopasuj od początku łańcucha znaków|\n",
    "|$| dopasuj od końca łańcucha znaków|\n",
    "\n",
    "Formularze używające {...} są znane jako granice. Liczby min w granicach są liczbami całkowitymi dziesiętnymi bez znaku z dopuszczalnymi wartościami od 0 do 255 włącznie.\n",
    "\n",
    "Pełny opis omawianych funkcjonalności dostępny jest w [dokumentacji PostgreSQL](https://www.postgresql.org/docs/9.3/functions-matching.html) "
   ]
  },
  {
   "cell_type": "markdown",
   "metadata": {},
   "source": [
    "## Wybrane funkcje działające na znakach\n",
    "\n",
    "Poza funkcją dopasowania w PostgreSQL istnieje również szereg funkcji predefiniowanych niepozwalających działanie ciągach znaków. W poniższej tabeli przedstawiono wybrane funkcje:\n",
    "\n",
    "|Funkcja| Opis| Przykład| Wynik|\n",
    "|:---|:---|:---:|---:|\n",
    "|ASCII| Zwraca wartość kodu ASCII znaku lub punktu kodu Unicode znaku UTF8<br><br>| ASCII ('A')| 65|\n",
    "|CHR |Konwertuj kod ASCII na znak lub punkt kodu Unicode na znak UTF8<br><br>|CHR (65) |'A'|\n",
    "|CONCAT| Połączenie dwóch lub więcej ciągów w jeden<br><br>| CONCAT('A', 'B', 'C')| 'ABC'|\n",
    "|CONCAT_WS| Połączenie ciągów znaków z separatorem<br><br>| CONCAT_WS(',', 'A', 'B', 'C')| 'A, B, C'|\n",
    "|FORMAT| Łącznie ciągów zgodnie z zadanym wzorcem formatowania<br><br>| FORMAT('Witaj% s', 'PostgreSQL') |'Witaj PostgreSQL'|\n",
    "|INITCAP| Konwertuj łańcuch znaków w styl nagłówka<br><br>| INITCAP('CZEść wAM') |\"Cześć Wam\"|\n",
    "|LEFT| Zwraca pierwszy n znaku z lewej strony ciągu<br><br>| LEFT('ABC', 1) |'A'|\n",
    "|LENGTH| Zwraca liczbę znaków w ciągu<br><br>| LENGTH('ABC')| 3|\n",
    "|LOWER| Konwertuj ciąg na małe litery<br><br>|LOWER ('czEŚĆ wAM')| 'cześć wam'|\n",
    "|LPAD| Uzupełnieni z lewej strony ciągu do zadanej długości zadanym ciągiem<br><br>|LPAD('123', 5, '00')| '00123'|\n",
    "|LTRIM| Usuwanie najdłuższego ciąg zawierającego określone znaki z lewej strony ciągu wejściowego<br><br>| LTRIM ('00123')|'123'|\n",
    "|MD5| Zwraca skrót MD5 ciągu szesnastkowego<br><br>| MD5('ABC')||\n",
    "|POSITION| Zwraca lokalizację pod łańcucha w ciągu<br><br>| POSTION('B' w 'A B C') |3|\n",
    "|REGEXP_MATCHES| Dopasuj wyrażenie regularne POSIX do łańcucha i zwraca pasujące podciągi<br><br>| REGEXP_MATCHES ('ABC', '^(A)(..)$', 'g');| {ABC}|\n",
    "|REGEXP_REPLACE| Zamienia podciągi pasujące do wyrażenia regularnego POSIX na nowy podciąg<br><br>| REGEXP_REPLACE ('John Doe','(.*)(.*)’,’\\2, \\1′);| 'Doe, John'|\n",
    "|REPEAT| Powtarza ciąg określoną liczbę razy<br><br>| REPEAT('\\*', 5)| '\\*\\*\\*\\*\\*'|\n",
    "|REPLACE| Zamienia wszystkie wystąpienia w ciągu pod łańcucha z podciągu na zadany <br><br>REPLACE('ABC', 'B', 'A')| 'AAC'|\n",
    "|REVERSE| Odwrócenie ciągu<br><br>| REVERSE ('ABC') 'CBA'|\n",
    "|RIGHT| Zwraca ostatnie n znaków w ciągu. Kiedy n jest ujemne, zwracaj wszystkie oprócz pierwszego<br><br>| RIGHT('ABC', 2)| 'BC'|\n",
    "|RPAD| Uzupełnieni z prawej strony ciągu do zadanej długości zadanym ciągiem<br><br>| RPAD('ABC', 6, 'xo') | 'ABCxox'|\n",
    "|RTRIM| Usuwa najdłuższy ciąg zawierający określone znaki z prawej strony ciągu wejściowego<br><br>| RTRIM 'abcxxzx', 'xyz')|'abc'|\n",
    "|SPLIT_PART| Dzieli ciąg na określonym ograniczniku i zwraca n-ty pod łańcuch<br><br>| SPLIT_PART('2017-12-31′, ’-', 2)| ’12’|\n",
    "|SUBSTRING| Wyodrębnia podciąg z ciągu<br><br>| SUBSTRING('ABC', 1,1)| 'A'|\n",
    "|TRIM| Usuwa najdłuższy ciąg zawierający określone znaki z lewej, prawej lub obu ciągów wejściowych<br><br>| TRIM('ABC')| 'ABC'|\n",
    "|UPPER| Konwertuje ciąg na wielkie litery<br><br>|UPPER('CZEść wAM') |'CZEŚĆ WAM'|\n"
   ]
  },
  {
   "cell_type": "markdown",
   "metadata": {},
   "source": [
    "## Zadania:\n",
    "1. Znajdź wszystkie nazwy krajów rozpoczynających się na P.\n",
    "2. Znajdź wszystkie nazwy krajów rozpoczynających się  P i kończących na s.\n",
    "3. Znajdź wszystkie tytuły filmów, w których znajdują się cyfry.\n",
    "4. Znajdź wszystkich pracowników z podwójnym imieniem lub nazwiskiem.\n",
    "5. Znajdź wszystkie nazwiska aktorów rozpoczynających się od P lub C i mających 5 znaków.\n",
    "6. Znajdź wszystkie tytuły filmów, w których występują słowa Trip lub Alone.\n",
    "7. Przeanalizuj zapytania:\n",
    "\t- select first_name from actor where first_name ~ '^ Al\\[a: z, 1: 9\\] *'\n",
    "\t- select first_name from actor where first_name ~ * '^ al\\[a: z, 1: 9\\] *'"
   ]
  },
  {
   "cell_type": "code",
   "execution_count": 28,
   "metadata": {},
   "outputs": [],
   "source": [
    "import numpy as np\n",
    "import pickle\n",
    "\n",
    "import psycopg2 as pg\n",
    "import pandas.io.sql as psql\n",
    "import pandas as pd\n",
    "\n",
    "from typing import Union, List, Tuple\n",
    "\n",
    "connection = pg.connect(host='pgsql-196447.vipserv.org', port=5432, dbname='wbauer_adb', user='wbauer_adb', password='adb2020');"
   ]
  },
  {
   "cell_type": "markdown",
   "metadata": {
    "collapsed": false,
    "pycharm": {
     "name": "#%% md\n"
    }
   },
   "source": [
    "1. Znajdź wszystkie nazwy krajów rozpoczynających się na P."
   ]
  },
  {
   "cell_type": "code",
   "execution_count": 29,
   "metadata": {
    "collapsed": false,
    "pycharm": {
     "name": "#%%\n"
    }
   },
   "outputs": [
    {
     "data": {
      "text/plain": "       country\n0     Pakistan\n1     Paraguay\n2         Peru\n3  Philippines\n4       Poland\n5  Puerto Rico",
      "text/html": "<div>\n<style scoped>\n    .dataframe tbody tr th:only-of-type {\n        vertical-align: middle;\n    }\n\n    .dataframe tbody tr th {\n        vertical-align: top;\n    }\n\n    .dataframe thead th {\n        text-align: right;\n    }\n</style>\n<table border=\"1\" class=\"dataframe\">\n  <thead>\n    <tr style=\"text-align: right;\">\n      <th></th>\n      <th>country</th>\n    </tr>\n  </thead>\n  <tbody>\n    <tr>\n      <th>0</th>\n      <td>Pakistan</td>\n    </tr>\n    <tr>\n      <th>1</th>\n      <td>Paraguay</td>\n    </tr>\n    <tr>\n      <th>2</th>\n      <td>Peru</td>\n    </tr>\n    <tr>\n      <th>3</th>\n      <td>Philippines</td>\n    </tr>\n    <tr>\n      <th>4</th>\n      <td>Poland</td>\n    </tr>\n    <tr>\n      <th>5</th>\n      <td>Puerto Rico</td>\n    </tr>\n  </tbody>\n</table>\n</div>"
     },
     "execution_count": 29,
     "metadata": {},
     "output_type": "execute_result"
    }
   ],
   "source": [
    "req = f\"\"\"select cntr.country\n",
    "            from country cntr\n",
    "            where cntr.country ~ '^P'\n",
    "            order by cntr.country\"\"\"\n",
    "\n",
    "pd.read_sql_query(req, con=connection)"
   ]
  },
  {
   "cell_type": "markdown",
   "metadata": {
    "collapsed": false,
    "pycharm": {
     "name": "#%% md\n"
    }
   },
   "source": [
    "2. Znajdź wszystkie nazwy krajów rozpoczynających się  P i kończących na s."
   ]
  },
  {
   "cell_type": "code",
   "execution_count": 30,
   "metadata": {
    "collapsed": false,
    "pycharm": {
     "name": "#%%\n"
    }
   },
   "outputs": [
    {
     "data": {
      "text/plain": "       country\n0  Philippines",
      "text/html": "<div>\n<style scoped>\n    .dataframe tbody tr th:only-of-type {\n        vertical-align: middle;\n    }\n\n    .dataframe tbody tr th {\n        vertical-align: top;\n    }\n\n    .dataframe thead th {\n        text-align: right;\n    }\n</style>\n<table border=\"1\" class=\"dataframe\">\n  <thead>\n    <tr style=\"text-align: right;\">\n      <th></th>\n      <th>country</th>\n    </tr>\n  </thead>\n  <tbody>\n    <tr>\n      <th>0</th>\n      <td>Philippines</td>\n    </tr>\n  </tbody>\n</table>\n</div>"
     },
     "execution_count": 30,
     "metadata": {},
     "output_type": "execute_result"
    }
   ],
   "source": [
    "req = f\"\"\"select cntr.country\n",
    "            from country cntr\n",
    "            where cntr.country ~ '^P' and cntr.country ~ 's$'\n",
    "            order by cntr.country\"\"\"\n",
    "\n",
    "pd.read_sql_query(req, con=connection)"
   ]
  },
  {
   "cell_type": "markdown",
   "metadata": {
    "collapsed": false
   },
   "source": [
    "3. Znajdź wszystkie tytuły filmów, w których znajdują się cyfry."
   ]
  },
  {
   "cell_type": "code",
   "execution_count": 31,
   "metadata": {
    "collapsed": false,
    "pycharm": {
     "name": "#%%\n"
    }
   },
   "outputs": [
    {
     "data": {
      "text/plain": "Empty DataFrame\nColumns: [title]\nIndex: []",
      "text/html": "<div>\n<style scoped>\n    .dataframe tbody tr th:only-of-type {\n        vertical-align: middle;\n    }\n\n    .dataframe tbody tr th {\n        vertical-align: top;\n    }\n\n    .dataframe thead th {\n        text-align: right;\n    }\n</style>\n<table border=\"1\" class=\"dataframe\">\n  <thead>\n    <tr style=\"text-align: right;\">\n      <th></th>\n      <th>title</th>\n    </tr>\n  </thead>\n  <tbody>\n  </tbody>\n</table>\n</div>"
     },
     "execution_count": 31,
     "metadata": {},
     "output_type": "execute_result"
    }
   ],
   "source": [
    "req =  \"\"\"select f.title\n",
    "            from film f\n",
    "            where f.title ~* '.*[0-9]+.*'\n",
    "            order by f.title\"\"\"\n",
    "\n",
    "pd.read_sql_query(req, con=connection)"
   ]
  },
  {
   "cell_type": "markdown",
   "metadata": {
    "collapsed": false
   },
   "source": [
    "4. Znajdź wszystkich pracowników z podwójnym imieniem lub nazwiskiem."
   ]
  },
  {
   "cell_type": "code",
   "execution_count": 32,
   "metadata": {
    "collapsed": false,
    "pycharm": {
     "name": "#%%\n"
    }
   },
   "outputs": [
    {
     "data": {
      "text/plain": "Empty DataFrame\nColumns: [staff_id, first_name, last_name, address_id, email, store_id, active, username, password, last_update, picture]\nIndex: []",
      "text/html": "<div>\n<style scoped>\n    .dataframe tbody tr th:only-of-type {\n        vertical-align: middle;\n    }\n\n    .dataframe tbody tr th {\n        vertical-align: top;\n    }\n\n    .dataframe thead th {\n        text-align: right;\n    }\n</style>\n<table border=\"1\" class=\"dataframe\">\n  <thead>\n    <tr style=\"text-align: right;\">\n      <th></th>\n      <th>staff_id</th>\n      <th>first_name</th>\n      <th>last_name</th>\n      <th>address_id</th>\n      <th>email</th>\n      <th>store_id</th>\n      <th>active</th>\n      <th>username</th>\n      <th>password</th>\n      <th>last_update</th>\n      <th>picture</th>\n    </tr>\n  </thead>\n  <tbody>\n  </tbody>\n</table>\n</div>"
     },
     "execution_count": 32,
     "metadata": {},
     "output_type": "execute_result"
    }
   ],
   "source": [
    "req =  \"\"\"select *\n",
    "            from staff stf\n",
    "            where stf.first_name ~* '.*( |-).*' or stf.last_name ~* '.*( |-).*' \"\"\"\n",
    "\n",
    "pd.read_sql_query(req, con=connection)"
   ]
  },
  {
   "cell_type": "markdown",
   "metadata": {
    "collapsed": false
   },
   "source": [
    "5. Znajdź wszystkie nazwiska aktorów rozpoczynających się od P lub C i mających 5 znaków."
   ]
  },
  {
   "cell_type": "code",
   "execution_count": 33,
   "metadata": {
    "collapsed": false,
    "pycharm": {
     "name": "#%%\n"
    }
   },
   "outputs": [
    {
     "data": {
      "text/plain": "  last_name\n0     Chase\n1     Chase\n2     Close\n3     Crowe\n4     Pesci\n5     Posey",
      "text/html": "<div>\n<style scoped>\n    .dataframe tbody tr th:only-of-type {\n        vertical-align: middle;\n    }\n\n    .dataframe tbody tr th {\n        vertical-align: top;\n    }\n\n    .dataframe thead th {\n        text-align: right;\n    }\n</style>\n<table border=\"1\" class=\"dataframe\">\n  <thead>\n    <tr style=\"text-align: right;\">\n      <th></th>\n      <th>last_name</th>\n    </tr>\n  </thead>\n  <tbody>\n    <tr>\n      <th>0</th>\n      <td>Chase</td>\n    </tr>\n    <tr>\n      <th>1</th>\n      <td>Chase</td>\n    </tr>\n    <tr>\n      <th>2</th>\n      <td>Close</td>\n    </tr>\n    <tr>\n      <th>3</th>\n      <td>Crowe</td>\n    </tr>\n    <tr>\n      <th>4</th>\n      <td>Pesci</td>\n    </tr>\n    <tr>\n      <th>5</th>\n      <td>Posey</td>\n    </tr>\n  </tbody>\n</table>\n</div>"
     },
     "execution_count": 33,
     "metadata": {},
     "output_type": "execute_result"
    }
   ],
   "source": [
    "req =  \"\"\"select act.last_name\n",
    "            from actor act\n",
    "            where act.last_name ~* '^[P,C][a-zA-Z]{4}$'\n",
    "            order by act.last_name\"\"\"\n",
    "\n",
    "pd.read_sql_query(req, con=connection)"
   ]
  },
  {
   "cell_type": "markdown",
   "metadata": {
    "collapsed": false
   },
   "source": [
    "6. Znajdź wszystkie tytuły filmów, w których występują słowa Trip lub Alone."
   ]
  },
  {
   "cell_type": "code",
   "execution_count": 34,
   "metadata": {
    "collapsed": false,
    "pycharm": {
     "name": "#%%\n"
    }
   },
   "outputs": [
    {
     "data": {
      "text/plain": "           title\n0     Alone Trip\n1  Superfly Trip\n2    Trip Newton\n3   Varsity Trip",
      "text/html": "<div>\n<style scoped>\n    .dataframe tbody tr th:only-of-type {\n        vertical-align: middle;\n    }\n\n    .dataframe tbody tr th {\n        vertical-align: top;\n    }\n\n    .dataframe thead th {\n        text-align: right;\n    }\n</style>\n<table border=\"1\" class=\"dataframe\">\n  <thead>\n    <tr style=\"text-align: right;\">\n      <th></th>\n      <th>title</th>\n    </tr>\n  </thead>\n  <tbody>\n    <tr>\n      <th>0</th>\n      <td>Alone Trip</td>\n    </tr>\n    <tr>\n      <th>1</th>\n      <td>Superfly Trip</td>\n    </tr>\n    <tr>\n      <th>2</th>\n      <td>Trip Newton</td>\n    </tr>\n    <tr>\n      <th>3</th>\n      <td>Varsity Trip</td>\n    </tr>\n  </tbody>\n</table>\n</div>"
     },
     "execution_count": 34,
     "metadata": {},
     "output_type": "execute_result"
    }
   ],
   "source": [
    "req =  \"\"\"select f.title\n",
    "            from film f\n",
    "            where f.title ~* '(?:^| )(Trip|Alone){1,}(?:$| )'\n",
    "            order by f.title\"\"\"\n",
    "\n",
    "pd.read_sql_query(req, con=connection)"
   ]
  },
  {
   "cell_type": "markdown",
   "metadata": {
    "collapsed": false
   },
   "source": [
    "7. Przeanalizuj zapytania:\n",
    "\t- select first_name from actor where first_name ~ '^ Al\\[a: z, 1: 9\\] *'"
   ]
  },
  {
   "cell_type": "code",
   "execution_count": 35,
   "metadata": {
    "collapsed": false,
    "pycharm": {
     "name": "#%%\n"
    }
   },
   "outputs": [
    {
     "data": {
      "text/plain": "  first_name\n0       Alec\n1     Albert\n2     Albert\n3         Al\n4       Alan",
      "text/html": "<div>\n<style scoped>\n    .dataframe tbody tr th:only-of-type {\n        vertical-align: middle;\n    }\n\n    .dataframe tbody tr th {\n        vertical-align: top;\n    }\n\n    .dataframe thead th {\n        text-align: right;\n    }\n</style>\n<table border=\"1\" class=\"dataframe\">\n  <thead>\n    <tr style=\"text-align: right;\">\n      <th></th>\n      <th>first_name</th>\n    </tr>\n  </thead>\n  <tbody>\n    <tr>\n      <th>0</th>\n      <td>Alec</td>\n    </tr>\n    <tr>\n      <th>1</th>\n      <td>Albert</td>\n    </tr>\n    <tr>\n      <th>2</th>\n      <td>Albert</td>\n    </tr>\n    <tr>\n      <th>3</th>\n      <td>Al</td>\n    </tr>\n    <tr>\n      <th>4</th>\n      <td>Alan</td>\n    </tr>\n  </tbody>\n</table>\n</div>"
     },
     "execution_count": 35,
     "metadata": {},
     "output_type": "execute_result"
    }
   ],
   "source": [
    "req =  \"\"\"select first_name\n",
    "            from actor\n",
    "            where first_name ~ '^Al[a:z,1:9]*' \"\"\"\n",
    "\n",
    "pd.read_sql_query(req, con=connection)"
   ]
  },
  {
   "cell_type": "markdown",
   "source": [
    "Powyższe zapytanie jest czułe na wielkość znaków. Tworzy dopasowanie do ciągu znaków zaczynających\n",
    "się na 'Al' (litery dokładnie takiej samej wielkości) i zawierających ewentualnie dodatkowe znaki pisane małą literą\n",
    "oraz liczby."
   ],
   "metadata": {
    "collapsed": false
   }
  },
  {
   "cell_type": "markdown",
   "metadata": {
    "collapsed": false
   },
   "source": [
    "7. Przeanalizuj zapytania:\n",
    "\t- select first_name from actor where first_name ~ * '^ al\\[a: z, 1: 9\\] *'"
   ]
  },
  {
   "cell_type": "code",
   "execution_count": 36,
   "metadata": {
    "collapsed": false,
    "pycharm": {
     "name": "#%%\n"
    }
   },
   "outputs": [
    {
     "data": {
      "text/plain": "  first_name\n0       Alec\n1     Albert\n2     Albert\n3         Al\n4       Alan",
      "text/html": "<div>\n<style scoped>\n    .dataframe tbody tr th:only-of-type {\n        vertical-align: middle;\n    }\n\n    .dataframe tbody tr th {\n        vertical-align: top;\n    }\n\n    .dataframe thead th {\n        text-align: right;\n    }\n</style>\n<table border=\"1\" class=\"dataframe\">\n  <thead>\n    <tr style=\"text-align: right;\">\n      <th></th>\n      <th>first_name</th>\n    </tr>\n  </thead>\n  <tbody>\n    <tr>\n      <th>0</th>\n      <td>Alec</td>\n    </tr>\n    <tr>\n      <th>1</th>\n      <td>Albert</td>\n    </tr>\n    <tr>\n      <th>2</th>\n      <td>Albert</td>\n    </tr>\n    <tr>\n      <th>3</th>\n      <td>Al</td>\n    </tr>\n    <tr>\n      <th>4</th>\n      <td>Alan</td>\n    </tr>\n  </tbody>\n</table>\n</div>"
     },
     "execution_count": 36,
     "metadata": {},
     "output_type": "execute_result"
    }
   ],
   "source": [
    "req =  \"\"\"select first_name\n",
    "            from actor\n",
    "            where first_name ~* '^al[a:z,1:9]*' \"\"\"\n",
    "\n",
    "pd.read_sql_query(req, con=connection)"
   ]
  },
  {
   "cell_type": "markdown",
   "source": [
    "Powyższe zapytanie nie jest czułe na wielkość znaków. Tworzy dopasowanie do ciągu znaków zaczynających\n",
    "się na 'al' (dowolnej wielkości) i zawierających ewentualnie dodatkowe znaki oraz liczby."
   ],
   "metadata": {
    "collapsed": false
   }
  },
  {
   "cell_type": "markdown",
   "metadata": {
    "collapsed": false
   },
   "source": [
    "## Zadanie implementacyjne\n",
    "Zaimplementuj wszystkie funkcje w pliku main.py zgodnie z opisem a następnie przetestuj je w notatniku.\n"
   ]
  },
  {
   "cell_type": "code",
   "execution_count": 37,
   "metadata": {
    "collapsed": false,
    "pycharm": {
     "name": "#%%\n"
    }
   },
   "outputs": [
    {
     "data": {
      "text/plain": "                title\n0     Birdcage Casper\n1      Chocolat Harry\n2      Giant Troopers\n3         Harry Idaho\n4   Hoosiers Birdcage\n5           Iron Moon\n6          Jaws Harry\n7    Kentuckian Giant\n8     Louisiana Harry\n9      Princess Giant\n10    Whisperer Giant",
      "text/html": "<div>\n<style scoped>\n    .dataframe tbody tr th:only-of-type {\n        vertical-align: middle;\n    }\n\n    .dataframe tbody tr th {\n        vertical-align: top;\n    }\n\n    .dataframe thead th {\n        text-align: right;\n    }\n</style>\n<table border=\"1\" class=\"dataframe\">\n  <thead>\n    <tr style=\"text-align: right;\">\n      <th></th>\n      <th>title</th>\n    </tr>\n  </thead>\n  <tbody>\n    <tr>\n      <th>0</th>\n      <td>Birdcage Casper</td>\n    </tr>\n    <tr>\n      <th>1</th>\n      <td>Chocolat Harry</td>\n    </tr>\n    <tr>\n      <th>2</th>\n      <td>Giant Troopers</td>\n    </tr>\n    <tr>\n      <th>3</th>\n      <td>Harry Idaho</td>\n    </tr>\n    <tr>\n      <th>4</th>\n      <td>Hoosiers Birdcage</td>\n    </tr>\n    <tr>\n      <th>5</th>\n      <td>Iron Moon</td>\n    </tr>\n    <tr>\n      <th>6</th>\n      <td>Jaws Harry</td>\n    </tr>\n    <tr>\n      <th>7</th>\n      <td>Kentuckian Giant</td>\n    </tr>\n    <tr>\n      <th>8</th>\n      <td>Louisiana Harry</td>\n    </tr>\n    <tr>\n      <th>9</th>\n      <td>Princess Giant</td>\n    </tr>\n    <tr>\n      <th>10</th>\n      <td>Whisperer Giant</td>\n    </tr>\n  </tbody>\n</table>\n</div>"
     },
     "execution_count": 37,
     "metadata": {},
     "output_type": "execute_result"
    }
   ],
   "source": [
    "import main\n",
    "\n",
    "main.film_title_case_insensitive(['Giant', 'Harry', 'Birdcage', 'Iron'])"
   ]
  },
  {
   "cell_type": "code",
   "execution_count": 38,
   "outputs": [
    {
     "data": {
      "text/plain": "                     title               languge category\n0             Amadeus Holy  English                Action\n1          American Circus  English                Action\n2       Antitrust Tomatoes  English                Action\n3            Ark Ridgemont  English                Action\n4      Barefoot Manchurian  English                Action\n..                     ...                   ...      ...\n59         Uprising Uptown  English                Action\n60  Waterfront Deliverance  English                Action\n61           Werewolf Lola  English                Action\n62            Women Dorado  English                Action\n63            Worst Banger  English                Action\n\n[64 rows x 3 columns]",
      "text/html": "<div>\n<style scoped>\n    .dataframe tbody tr th:only-of-type {\n        vertical-align: middle;\n    }\n\n    .dataframe tbody tr th {\n        vertical-align: top;\n    }\n\n    .dataframe thead th {\n        text-align: right;\n    }\n</style>\n<table border=\"1\" class=\"dataframe\">\n  <thead>\n    <tr style=\"text-align: right;\">\n      <th></th>\n      <th>title</th>\n      <th>languge</th>\n      <th>category</th>\n    </tr>\n  </thead>\n  <tbody>\n    <tr>\n      <th>0</th>\n      <td>Amadeus Holy</td>\n      <td>English</td>\n      <td>Action</td>\n    </tr>\n    <tr>\n      <th>1</th>\n      <td>American Circus</td>\n      <td>English</td>\n      <td>Action</td>\n    </tr>\n    <tr>\n      <th>2</th>\n      <td>Antitrust Tomatoes</td>\n      <td>English</td>\n      <td>Action</td>\n    </tr>\n    <tr>\n      <th>3</th>\n      <td>Ark Ridgemont</td>\n      <td>English</td>\n      <td>Action</td>\n    </tr>\n    <tr>\n      <th>4</th>\n      <td>Barefoot Manchurian</td>\n      <td>English</td>\n      <td>Action</td>\n    </tr>\n    <tr>\n      <th>...</th>\n      <td>...</td>\n      <td>...</td>\n      <td>...</td>\n    </tr>\n    <tr>\n      <th>59</th>\n      <td>Uprising Uptown</td>\n      <td>English</td>\n      <td>Action</td>\n    </tr>\n    <tr>\n      <th>60</th>\n      <td>Waterfront Deliverance</td>\n      <td>English</td>\n      <td>Action</td>\n    </tr>\n    <tr>\n      <th>61</th>\n      <td>Werewolf Lola</td>\n      <td>English</td>\n      <td>Action</td>\n    </tr>\n    <tr>\n      <th>62</th>\n      <td>Women Dorado</td>\n      <td>English</td>\n      <td>Action</td>\n    </tr>\n    <tr>\n      <th>63</th>\n      <td>Worst Banger</td>\n      <td>English</td>\n      <td>Action</td>\n    </tr>\n  </tbody>\n</table>\n<p>64 rows × 3 columns</p>\n</div>"
     },
     "execution_count": 38,
     "metadata": {},
     "output_type": "execute_result"
    }
   ],
   "source": [
    "main.film_in_category('Action')"
   ],
   "metadata": {
    "collapsed": false,
    "pycharm": {
     "name": "#%%\n"
    }
   }
  },
  {
   "cell_type": "code",
   "execution_count": 39,
   "outputs": [
    {
     "data": {
      "text/plain": "                     title               languge category\n0             Amadeus Holy  English                Action\n1          American Circus  English                Action\n2       Antitrust Tomatoes  English                Action\n3            Ark Ridgemont  English                Action\n4      Barefoot Manchurian  English                Action\n..                     ...                   ...      ...\n59         Uprising Uptown  English                Action\n60  Waterfront Deliverance  English                Action\n61           Werewolf Lola  English                Action\n62            Women Dorado  English                Action\n63            Worst Banger  English                Action\n\n[64 rows x 3 columns]",
      "text/html": "<div>\n<style scoped>\n    .dataframe tbody tr th:only-of-type {\n        vertical-align: middle;\n    }\n\n    .dataframe tbody tr th {\n        vertical-align: top;\n    }\n\n    .dataframe thead th {\n        text-align: right;\n    }\n</style>\n<table border=\"1\" class=\"dataframe\">\n  <thead>\n    <tr style=\"text-align: right;\">\n      <th></th>\n      <th>title</th>\n      <th>languge</th>\n      <th>category</th>\n    </tr>\n  </thead>\n  <tbody>\n    <tr>\n      <th>0</th>\n      <td>Amadeus Holy</td>\n      <td>English</td>\n      <td>Action</td>\n    </tr>\n    <tr>\n      <th>1</th>\n      <td>American Circus</td>\n      <td>English</td>\n      <td>Action</td>\n    </tr>\n    <tr>\n      <th>2</th>\n      <td>Antitrust Tomatoes</td>\n      <td>English</td>\n      <td>Action</td>\n    </tr>\n    <tr>\n      <th>3</th>\n      <td>Ark Ridgemont</td>\n      <td>English</td>\n      <td>Action</td>\n    </tr>\n    <tr>\n      <th>4</th>\n      <td>Barefoot Manchurian</td>\n      <td>English</td>\n      <td>Action</td>\n    </tr>\n    <tr>\n      <th>...</th>\n      <td>...</td>\n      <td>...</td>\n      <td>...</td>\n    </tr>\n    <tr>\n      <th>59</th>\n      <td>Uprising Uptown</td>\n      <td>English</td>\n      <td>Action</td>\n    </tr>\n    <tr>\n      <th>60</th>\n      <td>Waterfront Deliverance</td>\n      <td>English</td>\n      <td>Action</td>\n    </tr>\n    <tr>\n      <th>61</th>\n      <td>Werewolf Lola</td>\n      <td>English</td>\n      <td>Action</td>\n    </tr>\n    <tr>\n      <th>62</th>\n      <td>Women Dorado</td>\n      <td>English</td>\n      <td>Action</td>\n    </tr>\n    <tr>\n      <th>63</th>\n      <td>Worst Banger</td>\n      <td>English</td>\n      <td>Action</td>\n    </tr>\n  </tbody>\n</table>\n<p>64 rows × 3 columns</p>\n</div>"
     },
     "execution_count": 39,
     "metadata": {},
     "output_type": "execute_result"
    }
   ],
   "source": [
    "main.film_in_category(1)"
   ],
   "metadata": {
    "collapsed": false,
    "pycharm": {
     "name": "#%%\n"
    }
   }
  },
  {
   "cell_type": "code",
   "execution_count": 40,
   "outputs": [
    {
     "data": {
      "text/plain": "                     title               languge category\n0             Amadeus Holy  English                Action\n1          American Circus  English                Action\n2       Antitrust Tomatoes  English                Action\n3            Ark Ridgemont  English                Action\n4      Barefoot Manchurian  English                Action\n..                     ...                   ...      ...\n59         Uprising Uptown  English                Action\n60  Waterfront Deliverance  English                Action\n61           Werewolf Lola  English                Action\n62            Women Dorado  English                Action\n63            Worst Banger  English                Action\n\n[64 rows x 3 columns]",
      "text/html": "<div>\n<style scoped>\n    .dataframe tbody tr th:only-of-type {\n        vertical-align: middle;\n    }\n\n    .dataframe tbody tr th {\n        vertical-align: top;\n    }\n\n    .dataframe thead th {\n        text-align: right;\n    }\n</style>\n<table border=\"1\" class=\"dataframe\">\n  <thead>\n    <tr style=\"text-align: right;\">\n      <th></th>\n      <th>title</th>\n      <th>languge</th>\n      <th>category</th>\n    </tr>\n  </thead>\n  <tbody>\n    <tr>\n      <th>0</th>\n      <td>Amadeus Holy</td>\n      <td>English</td>\n      <td>Action</td>\n    </tr>\n    <tr>\n      <th>1</th>\n      <td>American Circus</td>\n      <td>English</td>\n      <td>Action</td>\n    </tr>\n    <tr>\n      <th>2</th>\n      <td>Antitrust Tomatoes</td>\n      <td>English</td>\n      <td>Action</td>\n    </tr>\n    <tr>\n      <th>3</th>\n      <td>Ark Ridgemont</td>\n      <td>English</td>\n      <td>Action</td>\n    </tr>\n    <tr>\n      <th>4</th>\n      <td>Barefoot Manchurian</td>\n      <td>English</td>\n      <td>Action</td>\n    </tr>\n    <tr>\n      <th>...</th>\n      <td>...</td>\n      <td>...</td>\n      <td>...</td>\n    </tr>\n    <tr>\n      <th>59</th>\n      <td>Uprising Uptown</td>\n      <td>English</td>\n      <td>Action</td>\n    </tr>\n    <tr>\n      <th>60</th>\n      <td>Waterfront Deliverance</td>\n      <td>English</td>\n      <td>Action</td>\n    </tr>\n    <tr>\n      <th>61</th>\n      <td>Werewolf Lola</td>\n      <td>English</td>\n      <td>Action</td>\n    </tr>\n    <tr>\n      <th>62</th>\n      <td>Women Dorado</td>\n      <td>English</td>\n      <td>Action</td>\n    </tr>\n    <tr>\n      <th>63</th>\n      <td>Worst Banger</td>\n      <td>English</td>\n      <td>Action</td>\n    </tr>\n  </tbody>\n</table>\n<p>64 rows × 3 columns</p>\n</div>"
     },
     "execution_count": 40,
     "metadata": {},
     "output_type": "execute_result"
    }
   ],
   "source": [
    "main.film_in_category_case_insensitive('action')"
   ],
   "metadata": {
    "collapsed": false,
    "pycharm": {
     "name": "#%%\n"
    }
   }
  },
  {
   "cell_type": "code",
   "execution_count": 41,
   "outputs": [
    {
     "data": {
      "text/plain": "                     title               languge category\n0             Amadeus Holy  English                Action\n1          American Circus  English                Action\n2       Antitrust Tomatoes  English                Action\n3            Ark Ridgemont  English                Action\n4      Barefoot Manchurian  English                Action\n..                     ...                   ...      ...\n59         Uprising Uptown  English                Action\n60  Waterfront Deliverance  English                Action\n61           Werewolf Lola  English                Action\n62            Women Dorado  English                Action\n63            Worst Banger  English                Action\n\n[64 rows x 3 columns]",
      "text/html": "<div>\n<style scoped>\n    .dataframe tbody tr th:only-of-type {\n        vertical-align: middle;\n    }\n\n    .dataframe tbody tr th {\n        vertical-align: top;\n    }\n\n    .dataframe thead th {\n        text-align: right;\n    }\n</style>\n<table border=\"1\" class=\"dataframe\">\n  <thead>\n    <tr style=\"text-align: right;\">\n      <th></th>\n      <th>title</th>\n      <th>languge</th>\n      <th>category</th>\n    </tr>\n  </thead>\n  <tbody>\n    <tr>\n      <th>0</th>\n      <td>Amadeus Holy</td>\n      <td>English</td>\n      <td>Action</td>\n    </tr>\n    <tr>\n      <th>1</th>\n      <td>American Circus</td>\n      <td>English</td>\n      <td>Action</td>\n    </tr>\n    <tr>\n      <th>2</th>\n      <td>Antitrust Tomatoes</td>\n      <td>English</td>\n      <td>Action</td>\n    </tr>\n    <tr>\n      <th>3</th>\n      <td>Ark Ridgemont</td>\n      <td>English</td>\n      <td>Action</td>\n    </tr>\n    <tr>\n      <th>4</th>\n      <td>Barefoot Manchurian</td>\n      <td>English</td>\n      <td>Action</td>\n    </tr>\n    <tr>\n      <th>...</th>\n      <td>...</td>\n      <td>...</td>\n      <td>...</td>\n    </tr>\n    <tr>\n      <th>59</th>\n      <td>Uprising Uptown</td>\n      <td>English</td>\n      <td>Action</td>\n    </tr>\n    <tr>\n      <th>60</th>\n      <td>Waterfront Deliverance</td>\n      <td>English</td>\n      <td>Action</td>\n    </tr>\n    <tr>\n      <th>61</th>\n      <td>Werewolf Lola</td>\n      <td>English</td>\n      <td>Action</td>\n    </tr>\n    <tr>\n      <th>62</th>\n      <td>Women Dorado</td>\n      <td>English</td>\n      <td>Action</td>\n    </tr>\n    <tr>\n      <th>63</th>\n      <td>Worst Banger</td>\n      <td>English</td>\n      <td>Action</td>\n    </tr>\n  </tbody>\n</table>\n<p>64 rows × 3 columns</p>\n</div>"
     },
     "execution_count": 41,
     "metadata": {},
     "output_type": "execute_result"
    }
   ],
   "source": [
    "main.film_in_category_case_insensitive(1)"
   ],
   "metadata": {
    "collapsed": false,
    "pycharm": {
     "name": "#%%\n"
    }
   }
  },
  {
   "cell_type": "code",
   "execution_count": 42,
   "outputs": [
    {
     "data": {
      "text/plain": "  first_name last_name\n0       Nick  Stallone\n1       Burt    Temple\n2       Mena    Temple",
      "text/html": "<div>\n<style scoped>\n    .dataframe tbody tr th:only-of-type {\n        vertical-align: middle;\n    }\n\n    .dataframe tbody tr th {\n        vertical-align: top;\n    }\n\n    .dataframe thead th {\n        text-align: right;\n    }\n</style>\n<table border=\"1\" class=\"dataframe\">\n  <thead>\n    <tr style=\"text-align: right;\">\n      <th></th>\n      <th>first_name</th>\n      <th>last_name</th>\n    </tr>\n  </thead>\n  <tbody>\n    <tr>\n      <th>0</th>\n      <td>Nick</td>\n      <td>Stallone</td>\n    </tr>\n    <tr>\n      <th>1</th>\n      <td>Burt</td>\n      <td>Temple</td>\n    </tr>\n    <tr>\n      <th>2</th>\n      <td>Mena</td>\n      <td>Temple</td>\n    </tr>\n  </tbody>\n</table>\n</div>"
     },
     "execution_count": 42,
     "metadata": {},
     "output_type": "execute_result"
    }
   ],
   "source": [
    "main.film_cast(\"Varsity Trip\")"
   ],
   "metadata": {
    "collapsed": false,
    "pycharm": {
     "name": "#%%\n"
    }
   }
  }
 ],
 "metadata": {
  "interpreter": {
   "hash": "ce351321b73b1ee23d5d5c20cae8a55cecbb551625fe12e8df9c1045c7307270"
  },
  "kernelspec": {
   "name": "python3",
   "language": "python",
   "display_name": "Python 3 (ipykernel)"
  },
  "language_info": {
   "codemirror_mode": {
    "name": "ipython",
    "version": 3
   },
   "file_extension": ".py",
   "mimetype": "text/x-python",
   "name": "python",
   "nbconvert_exporter": "python",
   "pygments_lexer": "ipython3",
   "version": "3.9.4"
  }
 },
 "nbformat": 4,
 "nbformat_minor": 2
}