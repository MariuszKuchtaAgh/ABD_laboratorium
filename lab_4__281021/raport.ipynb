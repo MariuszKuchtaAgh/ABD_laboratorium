{
 "cells": [
  {
   "cell_type": "markdown",
   "metadata": {},
   "source": [
    "# <center>Laboratorium Analiza i bazy danych </center>\n",
    "\n",
    "## <center>Łączenie tabel, podzapytania i funkcje agregujące</center>\n",
    "\n",
    "### Mariusz Kuchta\n",
    "gr. 2a - czwartek 10.00 - 11.30"
   ]
  },
  {
   "cell_type": "markdown",
   "metadata": {},
   "source": [
    "## Przykładowe tabele obrazujące łączenie\n",
    "\n",
    "Do zobrazowania operacji łączenia zostaną użyte tabele:\n",
    "\n",
    "```sql\n",
    "CREATE TABLE shape_a (\n",
    "    id INT PRIMARY KEY,\n",
    "    shape VARCHAR (100) NOT NULL\n",
    ");\n",
    " \n",
    "CREATE TABLE shape_b (\n",
    "    id INT PRIMARY KEY,\n",
    "    shape VARCHAR (100) NOT NULL\n",
    ");\n",
    "```\n",
    " \n",
    "Polecenie CREATE TABLE tworzy tabelę o zadanej nazwie i strukturze. Ogólna postać to:\n",
    "```sql\n",
    "CREATE TABLE tab_name (\n",
    "    col_name1 data_type constrain,\n",
    "    col_name1 data_type constrain,\n",
    "    ...\n",
    ");\n",
    "```\n",
    "Należy uzupełnić ją danymi:\n",
    "```sql\n",
    "INSERT INTO shape_a (id, shape)\n",
    "VALUES\n",
    "    (1, 'Trójkąt'),\n",
    "    (2, 'Kwadrat'),\n",
    "    (3, 'Deltoid'),\n",
    "    (4, 'Traper');\n",
    " \n",
    "INSERT INTO shape_b (id, shape)\n",
    "VALUES\n",
    "    (1, 'Kwadrat'),\n",
    "    (2, 'Trójkąt'),\n",
    "    (3, 'Romb'),\n",
    "    (4, 'Równoległobok');\n",
    "```\n",
    "Komenda INSERT INTO pozwala na dodanie do tabeli rekordów. Ogólna postać to:\n",
    "\n",
    "```sql\n",
    "INSERT INTO tab_name (col1_name, col2_name2, ...) \n",
    "VALUES\n",
    "    (val1_col1, val2_col2),\n",
    "    (val2_col1, val2_col2),\n",
    "    ...\n",
    "```"
   ]
  },
  {
   "cell_type": "markdown",
   "metadata": {},
   "source": [
    "## Inner join \n",
    "\n",
    "Jest to podstawowy rodzaj złączenie. Ten sposób złączenia wybiera  te wiersze, dla których warunek złączenia jest spełniony. W żadnej z łączonych tabel kolumna użyta do łączenia nie może mieć wartości NULL. \n",
    "\n",
    "#### Przykład:\n",
    "```sql\n",
    "SELECT\n",
    "    a.id id_a,\n",
    "    a.shape shape_a,\n",
    "    b.id id_b,\n",
    "    b.shape shape_b\n",
    "FROM\n",
    "    shape_a a\n",
    "INNER JOIN shape_b b ON a.shape = b.shape;\n",
    "```\n",
    "W zapytaniu powyżej użyto *aliasów* nazw tabel i column wynikowych, jest to szczególnie przydatne przy długich nazwach tabel i wprowadza czytelność w zapytaniu.\n",
    "\n",
    "#### Wynik:\n",
    "|id_a|shape_a|id_b|shape_b|\n",
    "|-|-|-|-|\n",
    "|1|Trójkąt|2|Trójkąt|\n",
    "|2|Kwadrat|1|Kwadrat|"
   ]
  },
  {
   "cell_type": "markdown",
   "metadata": {},
   "source": [
    "## OUTER JOIN\n",
    "\n",
    "Istnieją trzy rodzaje złączeń OUTER:\n",
    "- LEFT OUTER JOIN,\n",
    "- RIGHT OUTER JOIN,\n",
    "- FULL OUTER JOIN.\n",
    "\n",
    "### LEFT OUTER JOIN\n",
    "\n",
    "Ten rodzaj złączenie zwróci wszystkie rekordy z lewej tablicy i dopasuje do nich rekordy z prawej tablicy które spełniją zadany warunek złączenia. Jeżeli w prawej tablicy nie występują rekordy spełnijące warunek złączenia z lewą w ich miejscu pojawią się wartości NULL.\n",
    "\n",
    "#### Przykład 1:\n",
    "```sql\n",
    "SELECT\n",
    "    a.id id_a,\n",
    "    a.shape shape_a,\n",
    "    b.id id_b,\n",
    "    b.shape shape_b\n",
    "FROM\n",
    "    shape_a a\n",
    "LEFT JOIN shape_b b ON a.shape = b.shape;\n",
    "```\n",
    "#### Wynik:\n",
    "|id_a|shape_a|id_b|shape_b|\n",
    "|-|-|-|-|\n",
    "|1|Trójkąt|2|Trójkąt|\n",
    "|2|Kwadrat|1|Kwadrat|\n",
    "|3|Deltoid|NULL|NULL|\n",
    "|4|Traper|NULL|NULL|\n",
    "\n",
    "#### Przykład 2:\n",
    "```sql\n",
    "SELECT\n",
    "    b.id id_b,\n",
    "    b.shape shape_b,\n",
    "    a.id id_a,\n",
    "    a.shape shape_a   \n",
    "FROM\n",
    "    shape_b b\n",
    "LEFT JOIN shape_a a ON a.shape = b.shape;\n",
    "```\n",
    "#### Wynik:\n",
    "|id_a|shape_a|id_b|shape_b|\n",
    "|-|-|-|-|\n",
    "|1|Kwadrat|2|Kwadrat|\n",
    "|2|Trójkąt|1|Trójkąt|\n",
    "|3|Romb|NULL|NULL|\n",
    "|4|Równoległobok|NULL|NULL|\n",
    "\n",
    "### RIGHT OUTER JOIN\n",
    "\n",
    "Działa jak left outer join z tym, że prawa tablica w zapytaniu jest brana w całości.\n",
    "\n",
    "#### Przykład:\n",
    "```sql\n",
    "SELECT\n",
    "    a.id id_a,\n",
    "    a.shape shape_a,\n",
    "    b.id id_b,\n",
    "    b.shape shape_b\n",
    "FROM\n",
    "    shape_a a\n",
    "RIGHT JOIN shape_b b ON a.shape = b.shape;\n",
    "```\n",
    "\n",
    "#### Wynik:\n",
    "|id_a|shape_a|id_b|shape_b|\n",
    "|-|-|-|-|\n",
    "|2|Kwadrat|1|Kwadrat|\n",
    "|1|Trójkąt|2|Trójkąt|\n",
    "|NULL|NULL|3|Romb|\n",
    "|NULL|NULL|4|Równoległobok|\n",
    "\n",
    "\n",
    "### FULL OUTER JOIN\n",
    "\n",
    "Jest złączeniem które zwraca:\n",
    "- wiersze dla których warunek złączenia jest spełniony,\n",
    "- wiersze z lewej tabeli dla których nie ma odpowiedników w prawej,\n",
    "- wiersze z prawej tabeli dla których nie ma odpowiedników w lewej. \n",
    "\n",
    "#### Przykład:\n",
    "```sql\n",
    "SELECT\n",
    "    a.id id_a,\n",
    "    a.shape shape_a,\n",
    "    b.id id_b,\n",
    "    b.shape shape_b\n",
    "FROM\n",
    "    shape_a a\n",
    "FULL JOIN shape_b b ON a.shape = b.shape;\n",
    "```\n",
    "|id_a|shape_a|id_b|shape_b|\n",
    "|-|-|-|-|\n",
    "|1|Trójkąt|2|Trójkąt|\n",
    "|2|Kwadrat|1|Kwadrat|\n",
    "|3|Deltoid\"|NULL|NULL|\n",
    "|4|Traper|NULL|NULL|\n",
    "|NULL|NULL|3|Romb|\n",
    "|NULL|NULL|4|Równoległobok|"
   ]
  },
  {
   "cell_type": "markdown",
   "metadata": {},
   "source": [
    "## Podzapytania\n",
    "\n",
    "Podzapytanie zagnieżdżone SELECT znajduje się wewnątrz zewnętrznego zapytania SELECT, np. po klauzuli WHERE, HAVING lub FROM. W przypadku tego rodzaju zapytań w pierwszej kolejności wykonywane są wewnętrzne zapytania SELECT, a ich wynik jest wykorzystywany do zewnętrznego zapytania SELECT. Stąd łatwo zuważyć, że mogą one służyć do poprawy wydajności obsługi zapytania. Należy dobierać podzapytania tak by najbardziej zagnieżdżone podzapytanie zawierało najmniejszy zbiór poszukiwań. \n",
    "\n",
    "#### Przykład:\n",
    "Jeżeli chcemy znaleźć w bazie informację o tytułach filmów zwróconych w zadanym okresie możemy wykonać następujące zapytanie:\n",
    "```sql\n",
    "SELECT\n",
    "   film_id,\n",
    "   title\n",
    "FROM\n",
    "   film\n",
    "WHERE\n",
    "   film_id IN (\n",
    "      SELECT\n",
    "         inventory.film_id\n",
    "      FROM\n",
    "         rental\n",
    "      INNER JOIN inventory ON inventory.inventory_id = rental.inventory_id\n",
    "      WHERE\n",
    "         return_date BETWEEN '2005-05-29'\n",
    "      AND '2005-05-30'\n",
    "   );\n",
    "```\n",
    "\n",
    "#### Wynik\n",
    "|film_id|title|\n",
    "|-|-|\n",
    "|307|Fellowship Autumn|\n",
    "|255|Driving Polish|\n",
    "|388|Gunfight Moon|\n",
    "|130|Celebrity Horn|\n",
    "|563|Massacre Usual|\n",
    "|397|Hanky October|\n",
    "|...|...|\n",
    "\n",
    "### Używanie podzapytań\n",
    "\n",
    "Pod zapytania mogą być używane w :\n",
    "- SELECT,\n",
    "- UPDATE,\n",
    "- DELETE,\n",
    "- Funkcjach agregujących,\n",
    "- Do definiowania tabel tymczasowych.\n",
    "\n",
    "Używając podzapytań zapytania SQL szybko mogą stać się mało czytelne. Przez co będą trudne w zrozumieniu i późniejszym utrzymaniu. W celu analizy zapytań można użyć klauzuli __EXPLAIN__, która przeanalizuje zapytanie. Klauzula ta może służyć również do porównywania wydajności zapytań\n",
    "\n",
    "#### Przykład:\n",
    "```sql\n",
    "EXPLAIN SELECT\n",
    "   *\n",
    "FROM\n",
    "   film\n",
    "```"
   ]
  },
  {
   "cell_type": "markdown",
   "metadata": {},
   "source": [
    "## Funkcje agregujące\n",
    "\n",
    "Funkcje agregujące wykonują obliczenia na zestawie wierszy i zwracają pojedynczy wiersz. PostgreSQL udostępnia wszystkie standardowe funkcje agregujące SQL w następujący sposób:\n",
    "- AVG () - zwraca średnią wartość.\n",
    "- COUNT () - zwraca liczbę wartości.\n",
    "- MAX () - zwraca maksymalną wartość.\n",
    "- MIN () - zwraca minimalną wartość.\n",
    "- SUM () - zwraca sumę wszystkich lub różnych wartości.\n",
    "\n",
    "Pełna lista funkcji agregującej: https://www.postgresql.org/docs/9.5/functions-aggregate.html\n",
    "\n",
    "Często używamy funkcji agregujących z klauzulą GROUP BY w instrukcji SELECT. W tych przypadkach klauzula GROUP BY dzieli zestaw wyników na grupy wierszy i funkcja agregująca wykonuje obliczenia dla każdej grupy, np. maksimum, minimum, średnia itp. Funkcji agregujących można używać funkcji agregujących jako wyrażeń tylko w następujących klauzulach: SELECT i HAVING.\n",
    "\n",
    "### GROUP BY\n",
    "Klauzula GROUP BY dzieli wiersze zwrócone z instrukcji SELECT na grupy. Dla  każdej grupy można zastosować funkcję agregującą, np. SUM aby obliczyć sumę pozycji lub\n",
    "COUNT aby uzyskać liczbę elementów w grupach.\n",
    "\n",
    "Poniższa instrukcja ilustruje składnię klauzuli GROUP BY:\n",
    "```sql\n",
    "SELECT \n",
    "    column_1, \n",
    "    aggregate_function(column_2)\n",
    "FROM \n",
    "    tbl_name\n",
    "GROUP BY \n",
    "    column_1;\n",
    "```\n",
    "Klauzula GROUP BY musi pojawić się zaraz po klauzuli FROM lub WHERE, n0astępnie GROUP BY zawiera listę  kolumna oddzielonych przecinkami. \n",
    "\n",
    "### HAVING\n",
    "Często używamy klauzuli HAVING w połączeniu z klauzulą GROUP BY do filtrowania wierszy grup\n",
    "które nie spełniają określonego warunku.\n",
    "\n",
    "Poniższa instrukcja ilustruje typową składnię klauzuli HAVING:\n",
    "```sql\n",
    "SELECT\n",
    "    column_1,\n",
    "    aggregate_function (column_2)\n",
    "FROM\n",
    "    tbl_name\n",
    "GROUP BY\n",
    "    column_1\n",
    "HAVING\n",
    "    condition;\n",
    "```\n",
    "Klauzula HAVING ustawia warunek dla wierszy grup utworzonych przez klauzulę GROUP BY.  \n",
    "\n",
    "Klauzula GROUP BY ma zastosowanie, podczas gdy klauzula WHERE określa wcześniej warunki dla poszczególnych wierszy."
   ]
  },
  {
   "cell_type": "markdown",
   "metadata": {},
   "source": [
    "## Zadania wprowadzające\n",
    "Wykonaj zapytania przy użyciu DBMS:  \n",
    "  \n",
    "1. Znajdź liczbę wszystkich filmów o tej samej długości.\n",
    "2. Znajdź wszystkich klientów mieszkających w tym samym mieście.\n",
    "3. Oblicz średni koszt wypożyczenia wszystkich filmów.\n",
    "4. Oblicz i wyświetl liczbę filmów we wszystkich kategoriach.\n",
    "5. Wyświetl liczbę wszystkich klientów pogrupowanych według kraju.\n",
    "6. Wyświetl informacje o sklepie, który ma więcej niż 100 klientów i mniej niż 300 klientów.\n",
    "7. Wybierz wszystkich klientów, którzy oglądali filmy ponad 200 godzin.\n",
    "8. Oblicz średnią wartość wypożyczenia filmu.\n",
    "9. Oblicz średnią wartość długości filmu we wszystkich kategoriach.\n",
    "10. Znajdź najdłuższe tytuły filmowe we wszystkich kategoriach.\n",
    "11. Znajdź najdłuższy film we wszystkich kategoriach. Porównaj wynik z pkt 10."
   ]
  },
  {
   "cell_type": "code",
   "execution_count": 1,
   "metadata": {},
   "outputs": [],
   "source": [
    "import numpy as np\n",
    "\n",
    "import psycopg2 as pg\n",
    "import pandas.io.sql as psql\n",
    "import pandas as pd\n",
    "\n",
    "connection = pg.connect(host='pgsql-196447.vipserv.org', port=5432, dbname='wbauer_adb', user='wbauer_adb', password='adb2020');"
   ]
  },
  {
   "cell_type": "markdown",
   "metadata": {
    "collapsed": false,
    "pycharm": {
     "name": "#%% md\n"
    }
   },
   "source": [
    "1. Znajdź liczbę wszystkich filmów o tej samej długości."
   ]
  },
  {
   "cell_type": "code",
   "execution_count": 2,
   "metadata": {
    "collapsed": false,
    "pycharm": {
     "name": "#%%\n"
    }
   },
   "outputs": [
    {
     "data": {
      "text/plain": "     lenght  films_no\n0       171         8\n1       177         6\n2       141         7\n3       127         5\n4       139        11\n..      ...       ...\n135     106         6\n136      61        10\n137     144         8\n138     178        10\n139     129         7\n\n[140 rows x 2 columns]",
      "text/html": "<div>\n<style scoped>\n    .dataframe tbody tr th:only-of-type {\n        vertical-align: middle;\n    }\n\n    .dataframe tbody tr th {\n        vertical-align: top;\n    }\n\n    .dataframe thead th {\n        text-align: right;\n    }\n</style>\n<table border=\"1\" class=\"dataframe\">\n  <thead>\n    <tr style=\"text-align: right;\">\n      <th></th>\n      <th>lenght</th>\n      <th>films_no</th>\n    </tr>\n  </thead>\n  <tbody>\n    <tr>\n      <th>0</th>\n      <td>171</td>\n      <td>8</td>\n    </tr>\n    <tr>\n      <th>1</th>\n      <td>177</td>\n      <td>6</td>\n    </tr>\n    <tr>\n      <th>2</th>\n      <td>141</td>\n      <td>7</td>\n    </tr>\n    <tr>\n      <th>3</th>\n      <td>127</td>\n      <td>5</td>\n    </tr>\n    <tr>\n      <th>4</th>\n      <td>139</td>\n      <td>11</td>\n    </tr>\n    <tr>\n      <th>...</th>\n      <td>...</td>\n      <td>...</td>\n    </tr>\n    <tr>\n      <th>135</th>\n      <td>106</td>\n      <td>6</td>\n    </tr>\n    <tr>\n      <th>136</th>\n      <td>61</td>\n      <td>10</td>\n    </tr>\n    <tr>\n      <th>137</th>\n      <td>144</td>\n      <td>8</td>\n    </tr>\n    <tr>\n      <th>138</th>\n      <td>178</td>\n      <td>10</td>\n    </tr>\n    <tr>\n      <th>139</th>\n      <td>129</td>\n      <td>7</td>\n    </tr>\n  </tbody>\n</table>\n<p>140 rows × 2 columns</p>\n</div>"
     },
     "execution_count": 2,
     "metadata": {},
     "output_type": "execute_result"
    }
   ],
   "source": [
    "req = f\"\"\"select distinct f.length as lenght, count(f.length) as films_no\n",
    "                    from film f\n",
    "                    group by f.length\n",
    "                    having count(f.length) > 1\"\"\"\n",
    "\n",
    "res = pd.read_sql_query(req, con=connection)\n",
    "\n",
    "res"
   ]
  },
  {
   "cell_type": "code",
   "execution_count": 3,
   "outputs": [
    {
     "data": {
      "text/plain": "1000"
     },
     "execution_count": 3,
     "metadata": {},
     "output_type": "execute_result"
    }
   ],
   "source": [
    "res['films_no'].sum()"
   ],
   "metadata": {
    "collapsed": false,
    "pycharm": {
     "name": "#%%\n"
    }
   }
  },
  {
   "cell_type": "markdown",
   "metadata": {
    "collapsed": false,
    "pycharm": {
     "name": "#%% md\n"
    }
   },
   "source": [
    "2. Znajdź wszystkich klientów mieszkających w tym samym mieście."
   ]
  },
  {
   "cell_type": "code",
   "execution_count": 4,
   "metadata": {
    "collapsed": false,
    "pycharm": {
     "name": "#%%\n"
    }
   },
   "outputs": [
    {
     "data": {
      "text/plain": "                   city  count\n0    A Corua (La Corua)      1\n1                  Abha      1\n2             Abu Dhabi      1\n3                  Acua      1\n4                 Adana      1\n..                  ...    ...\n592         Zhezqazghan      1\n593            Zhoushan      1\n594          Ziguinchor      1\n595              Aurora      2\n596              London      2\n\n[597 rows x 2 columns]",
      "text/html": "<div>\n<style scoped>\n    .dataframe tbody tr th:only-of-type {\n        vertical-align: middle;\n    }\n\n    .dataframe tbody tr th {\n        vertical-align: top;\n    }\n\n    .dataframe thead th {\n        text-align: right;\n    }\n</style>\n<table border=\"1\" class=\"dataframe\">\n  <thead>\n    <tr style=\"text-align: right;\">\n      <th></th>\n      <th>city</th>\n      <th>count</th>\n    </tr>\n  </thead>\n  <tbody>\n    <tr>\n      <th>0</th>\n      <td>A Corua (La Corua)</td>\n      <td>1</td>\n    </tr>\n    <tr>\n      <th>1</th>\n      <td>Abha</td>\n      <td>1</td>\n    </tr>\n    <tr>\n      <th>2</th>\n      <td>Abu Dhabi</td>\n      <td>1</td>\n    </tr>\n    <tr>\n      <th>3</th>\n      <td>Acua</td>\n      <td>1</td>\n    </tr>\n    <tr>\n      <th>4</th>\n      <td>Adana</td>\n      <td>1</td>\n    </tr>\n    <tr>\n      <th>...</th>\n      <td>...</td>\n      <td>...</td>\n    </tr>\n    <tr>\n      <th>592</th>\n      <td>Zhezqazghan</td>\n      <td>1</td>\n    </tr>\n    <tr>\n      <th>593</th>\n      <td>Zhoushan</td>\n      <td>1</td>\n    </tr>\n    <tr>\n      <th>594</th>\n      <td>Ziguinchor</td>\n      <td>1</td>\n    </tr>\n    <tr>\n      <th>595</th>\n      <td>Aurora</td>\n      <td>2</td>\n    </tr>\n    <tr>\n      <th>596</th>\n      <td>London</td>\n      <td>2</td>\n    </tr>\n  </tbody>\n</table>\n<p>597 rows × 2 columns</p>\n</div>"
     },
     "execution_count": 4,
     "metadata": {},
     "output_type": "execute_result"
    }
   ],
   "source": [
    "req = f\"\"\"select distinct ct.city as city, count(ct.city) \n",
    "                    from customer cs\n",
    "                    join address ad on ad.address_id = cs.address_id\n",
    "                    join city ct on ct.city_id = ad.city_id\n",
    "                    group by ct.city\n",
    "                    order by count asc\"\"\"\n",
    "\n",
    "pd.read_sql_query(req, con=connection)"
   ]
  },
  {
   "cell_type": "code",
   "execution_count": 5,
   "outputs": [
    {
     "data": {
      "text/plain": "     customer_id  store_id first_name last_name  \\\n0            251         2     Vickie    Brewer   \n1            106         1     Connie   Wallace   \n2            120         2     Sylvia     Ortiz   \n3            285         1     Miriam  Mckinney   \n4            264         1  Gwendolyn       May   \n..           ...       ...        ...       ...   \n594          328         2    Jeffrey     Spear   \n595          263         1      Hilda   Hopkins   \n596          144         1      Clara      Shaw   \n597            7         1      Maria    Miller   \n598          453         1     Calvin    Martel   \n\n                                  email  address_id  activebool create_date  \\\n0      vickie.brewer@sakilacustomer.org         255        True  2006-02-14   \n1     connie.wallace@sakilacustomer.org         110        True  2006-02-14   \n2       sylvia.ortiz@sakilacustomer.org         124        True  2006-02-14   \n3    miriam.mckinney@sakilacustomer.org         290        True  2006-02-14   \n4      gwendolyn.may@sakilacustomer.org         269        True  2006-02-14   \n..                                  ...         ...         ...         ...   \n594    jeffrey.spear@sakilacustomer.org         333        True  2006-02-14   \n595    hilda.hopkins@sakilacustomer.org         268        True  2006-02-14   \n596       clara.shaw@sakilacustomer.org         148        True  2006-02-14   \n597     maria.miller@sakilacustomer.org          11        True  2006-02-14   \n598    calvin.martel@sakilacustomer.org         458        True  2006-02-14   \n\n                last_update  active  \n0   2013-05-26 14:49:45.738       1  \n1   2013-05-26 14:49:45.738       1  \n2   2013-05-26 14:49:45.738       1  \n3   2013-05-26 14:49:45.738       1  \n4   2013-05-26 14:49:45.738       1  \n..                      ...     ...  \n594 2013-05-26 14:49:45.738       1  \n595 2013-05-26 14:49:45.738       1  \n596 2013-05-26 14:49:45.738       1  \n597 2013-05-26 14:49:45.738       1  \n598 2013-05-26 14:49:45.738       1  \n\n[599 rows x 10 columns]",
      "text/html": "<div>\n<style scoped>\n    .dataframe tbody tr th:only-of-type {\n        vertical-align: middle;\n    }\n\n    .dataframe tbody tr th {\n        vertical-align: top;\n    }\n\n    .dataframe thead th {\n        text-align: right;\n    }\n</style>\n<table border=\"1\" class=\"dataframe\">\n  <thead>\n    <tr style=\"text-align: right;\">\n      <th></th>\n      <th>customer_id</th>\n      <th>store_id</th>\n      <th>first_name</th>\n      <th>last_name</th>\n      <th>email</th>\n      <th>address_id</th>\n      <th>activebool</th>\n      <th>create_date</th>\n      <th>last_update</th>\n      <th>active</th>\n    </tr>\n  </thead>\n  <tbody>\n    <tr>\n      <th>0</th>\n      <td>251</td>\n      <td>2</td>\n      <td>Vickie</td>\n      <td>Brewer</td>\n      <td>vickie.brewer@sakilacustomer.org</td>\n      <td>255</td>\n      <td>True</td>\n      <td>2006-02-14</td>\n      <td>2013-05-26 14:49:45.738</td>\n      <td>1</td>\n    </tr>\n    <tr>\n      <th>1</th>\n      <td>106</td>\n      <td>1</td>\n      <td>Connie</td>\n      <td>Wallace</td>\n      <td>connie.wallace@sakilacustomer.org</td>\n      <td>110</td>\n      <td>True</td>\n      <td>2006-02-14</td>\n      <td>2013-05-26 14:49:45.738</td>\n      <td>1</td>\n    </tr>\n    <tr>\n      <th>2</th>\n      <td>120</td>\n      <td>2</td>\n      <td>Sylvia</td>\n      <td>Ortiz</td>\n      <td>sylvia.ortiz@sakilacustomer.org</td>\n      <td>124</td>\n      <td>True</td>\n      <td>2006-02-14</td>\n      <td>2013-05-26 14:49:45.738</td>\n      <td>1</td>\n    </tr>\n    <tr>\n      <th>3</th>\n      <td>285</td>\n      <td>1</td>\n      <td>Miriam</td>\n      <td>Mckinney</td>\n      <td>miriam.mckinney@sakilacustomer.org</td>\n      <td>290</td>\n      <td>True</td>\n      <td>2006-02-14</td>\n      <td>2013-05-26 14:49:45.738</td>\n      <td>1</td>\n    </tr>\n    <tr>\n      <th>4</th>\n      <td>264</td>\n      <td>1</td>\n      <td>Gwendolyn</td>\n      <td>May</td>\n      <td>gwendolyn.may@sakilacustomer.org</td>\n      <td>269</td>\n      <td>True</td>\n      <td>2006-02-14</td>\n      <td>2013-05-26 14:49:45.738</td>\n      <td>1</td>\n    </tr>\n    <tr>\n      <th>...</th>\n      <td>...</td>\n      <td>...</td>\n      <td>...</td>\n      <td>...</td>\n      <td>...</td>\n      <td>...</td>\n      <td>...</td>\n      <td>...</td>\n      <td>...</td>\n      <td>...</td>\n    </tr>\n    <tr>\n      <th>594</th>\n      <td>328</td>\n      <td>2</td>\n      <td>Jeffrey</td>\n      <td>Spear</td>\n      <td>jeffrey.spear@sakilacustomer.org</td>\n      <td>333</td>\n      <td>True</td>\n      <td>2006-02-14</td>\n      <td>2013-05-26 14:49:45.738</td>\n      <td>1</td>\n    </tr>\n    <tr>\n      <th>595</th>\n      <td>263</td>\n      <td>1</td>\n      <td>Hilda</td>\n      <td>Hopkins</td>\n      <td>hilda.hopkins@sakilacustomer.org</td>\n      <td>268</td>\n      <td>True</td>\n      <td>2006-02-14</td>\n      <td>2013-05-26 14:49:45.738</td>\n      <td>1</td>\n    </tr>\n    <tr>\n      <th>596</th>\n      <td>144</td>\n      <td>1</td>\n      <td>Clara</td>\n      <td>Shaw</td>\n      <td>clara.shaw@sakilacustomer.org</td>\n      <td>148</td>\n      <td>True</td>\n      <td>2006-02-14</td>\n      <td>2013-05-26 14:49:45.738</td>\n      <td>1</td>\n    </tr>\n    <tr>\n      <th>597</th>\n      <td>7</td>\n      <td>1</td>\n      <td>Maria</td>\n      <td>Miller</td>\n      <td>maria.miller@sakilacustomer.org</td>\n      <td>11</td>\n      <td>True</td>\n      <td>2006-02-14</td>\n      <td>2013-05-26 14:49:45.738</td>\n      <td>1</td>\n    </tr>\n    <tr>\n      <th>598</th>\n      <td>453</td>\n      <td>1</td>\n      <td>Calvin</td>\n      <td>Martel</td>\n      <td>calvin.martel@sakilacustomer.org</td>\n      <td>458</td>\n      <td>True</td>\n      <td>2006-02-14</td>\n      <td>2013-05-26 14:49:45.738</td>\n      <td>1</td>\n    </tr>\n  </tbody>\n</table>\n<p>599 rows × 10 columns</p>\n</div>"
     },
     "execution_count": 5,
     "metadata": {},
     "output_type": "execute_result"
    }
   ],
   "source": [
    "req = f\"\"\"select cs.*\n",
    "                    from customer cs\n",
    "                    join address ad on ad.address_id = cs.address_id\n",
    "                    join city ct on ct.city_id = ad.city_id\n",
    "                    group by cs.customer_id\"\"\"\n",
    "\n",
    "pd.read_sql_query(req, con=connection)\n"
   ],
   "metadata": {
    "collapsed": false,
    "pycharm": {
     "name": "#%%\n"
    }
   }
  },
  {
   "cell_type": "markdown",
   "metadata": {
    "collapsed": false
   },
   "source": [
    "3. Oblicz średni koszt wypożyczenia wszystkich filmów."
   ]
  },
  {
   "cell_type": "code",
   "execution_count": 6,
   "metadata": {
    "collapsed": false,
    "pycharm": {
     "name": "#%%\n"
    }
   },
   "outputs": [
    {
     "data": {
      "text/plain": "        avg\n0  4.200606",
      "text/html": "<div>\n<style scoped>\n    .dataframe tbody tr th:only-of-type {\n        vertical-align: middle;\n    }\n\n    .dataframe tbody tr th {\n        vertical-align: top;\n    }\n\n    .dataframe thead th {\n        text-align: right;\n    }\n</style>\n<table border=\"1\" class=\"dataframe\">\n  <thead>\n    <tr style=\"text-align: right;\">\n      <th></th>\n      <th>avg</th>\n    </tr>\n  </thead>\n  <tbody>\n    <tr>\n      <th>0</th>\n      <td>4.200606</td>\n    </tr>\n  </tbody>\n</table>\n</div>"
     },
     "execution_count": 6,
     "metadata": {},
     "output_type": "execute_result"
    }
   ],
   "source": [
    "req = f\"\"\"\n",
    "    select AVG(amount)\n",
    "    from payment \n",
    "\"\"\"\n",
    "\n",
    "pd.read_sql_query(req, con=connection)"
   ]
  },
  {
   "cell_type": "markdown",
   "metadata": {
    "collapsed": false
   },
   "source": [
    "4. Oblicz i wyświetl liczbę filmów we wszystkich kategoriach."
   ]
  },
  {
   "cell_type": "code",
   "execution_count": 7,
   "metadata": {
    "collapsed": false,
    "pycharm": {
     "name": "#%%\n"
    }
   },
   "outputs": [
    {
     "data": {
      "text/plain": "       category  count\n0        Action     64\n1     Animation     66\n2      Children     60\n3      Classics     57\n4        Comedy     58\n5   Documentary     68\n6         Drama     62\n7        Family     69\n8       Foreign     73\n9         Games     61\n10       Horror     56\n11        Music     51\n12          New     63\n13       Sci-Fi     61\n14       Sports     74\n15       Travel     57",
      "text/html": "<div>\n<style scoped>\n    .dataframe tbody tr th:only-of-type {\n        vertical-align: middle;\n    }\n\n    .dataframe tbody tr th {\n        vertical-align: top;\n    }\n\n    .dataframe thead th {\n        text-align: right;\n    }\n</style>\n<table border=\"1\" class=\"dataframe\">\n  <thead>\n    <tr style=\"text-align: right;\">\n      <th></th>\n      <th>category</th>\n      <th>count</th>\n    </tr>\n  </thead>\n  <tbody>\n    <tr>\n      <th>0</th>\n      <td>Action</td>\n      <td>64</td>\n    </tr>\n    <tr>\n      <th>1</th>\n      <td>Animation</td>\n      <td>66</td>\n    </tr>\n    <tr>\n      <th>2</th>\n      <td>Children</td>\n      <td>60</td>\n    </tr>\n    <tr>\n      <th>3</th>\n      <td>Classics</td>\n      <td>57</td>\n    </tr>\n    <tr>\n      <th>4</th>\n      <td>Comedy</td>\n      <td>58</td>\n    </tr>\n    <tr>\n      <th>5</th>\n      <td>Documentary</td>\n      <td>68</td>\n    </tr>\n    <tr>\n      <th>6</th>\n      <td>Drama</td>\n      <td>62</td>\n    </tr>\n    <tr>\n      <th>7</th>\n      <td>Family</td>\n      <td>69</td>\n    </tr>\n    <tr>\n      <th>8</th>\n      <td>Foreign</td>\n      <td>73</td>\n    </tr>\n    <tr>\n      <th>9</th>\n      <td>Games</td>\n      <td>61</td>\n    </tr>\n    <tr>\n      <th>10</th>\n      <td>Horror</td>\n      <td>56</td>\n    </tr>\n    <tr>\n      <th>11</th>\n      <td>Music</td>\n      <td>51</td>\n    </tr>\n    <tr>\n      <th>12</th>\n      <td>New</td>\n      <td>63</td>\n    </tr>\n    <tr>\n      <th>13</th>\n      <td>Sci-Fi</td>\n      <td>61</td>\n    </tr>\n    <tr>\n      <th>14</th>\n      <td>Sports</td>\n      <td>74</td>\n    </tr>\n    <tr>\n      <th>15</th>\n      <td>Travel</td>\n      <td>57</td>\n    </tr>\n  </tbody>\n</table>\n</div>"
     },
     "execution_count": 7,
     "metadata": {},
     "output_type": "execute_result"
    }
   ],
   "source": [
    "req = f\"\"\"select distinct cat.name as category, count(cat.name) \n",
    "                    from film f  \n",
    "                    join film_category fc on fc.film_id = f.film_id\n",
    "                    join category cat on cat.category_id = fc.category_id  \n",
    "                    group by cat.name\"\"\"\n",
    "\n",
    "res = pd.read_sql_query(req, con=connection)\n",
    "\n",
    "res"
   ]
  },
  {
   "cell_type": "code",
   "execution_count": 8,
   "outputs": [
    {
     "data": {
      "text/plain": "1000"
     },
     "execution_count": 8,
     "metadata": {},
     "output_type": "execute_result"
    }
   ],
   "source": [
    "res['count'].sum()"
   ],
   "metadata": {
    "collapsed": false,
    "pycharm": {
     "name": "#%%\n"
    }
   }
  },
  {
   "cell_type": "markdown",
   "metadata": {
    "collapsed": false
   },
   "source": [
    "5. Wyświetl liczbę wszystkich klientów pogrupowanych według kraju."
   ]
  },
  {
   "cell_type": "code",
   "execution_count": 9,
   "metadata": {
    "collapsed": false,
    "pycharm": {
     "name": "#%%\n"
    }
   },
   "outputs": [
    {
     "data": {
      "text/plain": "                                   country  customer_no\n0                                 Malaysia            3\n1                                    Sudan            2\n2    Congo, The Democratic Republic of the            2\n3                                  Algeria            3\n4                                   Zambia            1\n..                                     ...          ...\n103                              Venezuela            7\n104                          Faroe Islands            1\n105                            North Korea            1\n106                            Switzerland            3\n107                                  Chile            3\n\n[108 rows x 2 columns]",
      "text/html": "<div>\n<style scoped>\n    .dataframe tbody tr th:only-of-type {\n        vertical-align: middle;\n    }\n\n    .dataframe tbody tr th {\n        vertical-align: top;\n    }\n\n    .dataframe thead th {\n        text-align: right;\n    }\n</style>\n<table border=\"1\" class=\"dataframe\">\n  <thead>\n    <tr style=\"text-align: right;\">\n      <th></th>\n      <th>country</th>\n      <th>customer_no</th>\n    </tr>\n  </thead>\n  <tbody>\n    <tr>\n      <th>0</th>\n      <td>Malaysia</td>\n      <td>3</td>\n    </tr>\n    <tr>\n      <th>1</th>\n      <td>Sudan</td>\n      <td>2</td>\n    </tr>\n    <tr>\n      <th>2</th>\n      <td>Congo, The Democratic Republic of the</td>\n      <td>2</td>\n    </tr>\n    <tr>\n      <th>3</th>\n      <td>Algeria</td>\n      <td>3</td>\n    </tr>\n    <tr>\n      <th>4</th>\n      <td>Zambia</td>\n      <td>1</td>\n    </tr>\n    <tr>\n      <th>...</th>\n      <td>...</td>\n      <td>...</td>\n    </tr>\n    <tr>\n      <th>103</th>\n      <td>Venezuela</td>\n      <td>7</td>\n    </tr>\n    <tr>\n      <th>104</th>\n      <td>Faroe Islands</td>\n      <td>1</td>\n    </tr>\n    <tr>\n      <th>105</th>\n      <td>North Korea</td>\n      <td>1</td>\n    </tr>\n    <tr>\n      <th>106</th>\n      <td>Switzerland</td>\n      <td>3</td>\n    </tr>\n    <tr>\n      <th>107</th>\n      <td>Chile</td>\n      <td>3</td>\n    </tr>\n  </tbody>\n</table>\n<p>108 rows × 2 columns</p>\n</div>"
     },
     "execution_count": 9,
     "metadata": {},
     "output_type": "execute_result"
    }
   ],
   "source": [
    "req = f\"\"\"select distinct ct.country as country, count(ct.country) as customer_no\n",
    "                    from customer cs  \n",
    "                    join address ad on ad.address_id = cs.address_id\n",
    "                    join city c on c.city_id = ad.city_id\n",
    "                    join country ct on ct.country_id = c.country_id\n",
    "                    group by ct.country\"\"\"\n",
    "\n",
    "pd.read_sql_query(req, con=connection)"
   ]
  },
  {
   "cell_type": "markdown",
   "metadata": {
    "collapsed": false
   },
   "source": [
    "6. Wyświetl informacje o sklepie, który ma więcej niż 100 klientów i mniej niż 300 klientów."
   ]
  },
  {
   "cell_type": "code",
   "execution_count": 10,
   "metadata": {
    "collapsed": false,
    "pycharm": {
     "name": "#%%\n"
    }
   },
   "outputs": [
    {
     "data": {
      "text/plain": "   store_id  manager_staff_id  address_id         last_update\n0         2                 2           2 2006-02-15 09:57:12",
      "text/html": "<div>\n<style scoped>\n    .dataframe tbody tr th:only-of-type {\n        vertical-align: middle;\n    }\n\n    .dataframe tbody tr th {\n        vertical-align: top;\n    }\n\n    .dataframe thead th {\n        text-align: right;\n    }\n</style>\n<table border=\"1\" class=\"dataframe\">\n  <thead>\n    <tr style=\"text-align: right;\">\n      <th></th>\n      <th>store_id</th>\n      <th>manager_staff_id</th>\n      <th>address_id</th>\n      <th>last_update</th>\n    </tr>\n  </thead>\n  <tbody>\n    <tr>\n      <th>0</th>\n      <td>2</td>\n      <td>2</td>\n      <td>2</td>\n      <td>2006-02-15 09:57:12</td>\n    </tr>\n  </tbody>\n</table>\n</div>"
     },
     "execution_count": 10,
     "metadata": {},
     "output_type": "execute_result"
    }
   ],
   "source": [
    "req = f\"\"\"select str.*\n",
    "            from store str\n",
    "            join customer cs on cs.store_id = str.store_id\n",
    "            group by str.store_id\n",
    "            having count(cs.customer_id) > 100 and count(cs.customer_id) < 300\n",
    "            \"\"\"\n",
    "\n",
    "pd.read_sql_query(req, con=connection)"
   ]
  },
  {
   "cell_type": "markdown",
   "metadata": {
    "collapsed": false
   },
   "source": [
    "7. Wybierz wszystkich klientów, którzy oglądali filmy ponad 200 godzin."
   ]
  },
  {
   "cell_type": "code",
   "execution_count": 11,
   "metadata": {
    "collapsed": false,
    "pycharm": {
     "name": "#%%\n"
    }
   },
   "outputs": [
    {
     "data": {
      "text/plain": "    first_name last_name   sum\n0        Brian     Wyman  1265\n1      Antonio      Meek  1451\n2        Leona    Obrien  1588\n3    Katherine    Rivera  1615\n4      Tiffany    Jordan  1667\n..         ...       ...   ...\n594     Wesley      Bull  4808\n595      Clara      Shaw  4808\n596      Tammy   Sanders  5065\n597    Eleanor      Hunt  5360\n598       Karl      Seal  5388\n\n[599 rows x 3 columns]",
      "text/html": "<div>\n<style scoped>\n    .dataframe tbody tr th:only-of-type {\n        vertical-align: middle;\n    }\n\n    .dataframe tbody tr th {\n        vertical-align: top;\n    }\n\n    .dataframe thead th {\n        text-align: right;\n    }\n</style>\n<table border=\"1\" class=\"dataframe\">\n  <thead>\n    <tr style=\"text-align: right;\">\n      <th></th>\n      <th>first_name</th>\n      <th>last_name</th>\n      <th>sum</th>\n    </tr>\n  </thead>\n  <tbody>\n    <tr>\n      <th>0</th>\n      <td>Brian</td>\n      <td>Wyman</td>\n      <td>1265</td>\n    </tr>\n    <tr>\n      <th>1</th>\n      <td>Antonio</td>\n      <td>Meek</td>\n      <td>1451</td>\n    </tr>\n    <tr>\n      <th>2</th>\n      <td>Leona</td>\n      <td>Obrien</td>\n      <td>1588</td>\n    </tr>\n    <tr>\n      <th>3</th>\n      <td>Katherine</td>\n      <td>Rivera</td>\n      <td>1615</td>\n    </tr>\n    <tr>\n      <th>4</th>\n      <td>Tiffany</td>\n      <td>Jordan</td>\n      <td>1667</td>\n    </tr>\n    <tr>\n      <th>...</th>\n      <td>...</td>\n      <td>...</td>\n      <td>...</td>\n    </tr>\n    <tr>\n      <th>594</th>\n      <td>Wesley</td>\n      <td>Bull</td>\n      <td>4808</td>\n    </tr>\n    <tr>\n      <th>595</th>\n      <td>Clara</td>\n      <td>Shaw</td>\n      <td>4808</td>\n    </tr>\n    <tr>\n      <th>596</th>\n      <td>Tammy</td>\n      <td>Sanders</td>\n      <td>5065</td>\n    </tr>\n    <tr>\n      <th>597</th>\n      <td>Eleanor</td>\n      <td>Hunt</td>\n      <td>5360</td>\n    </tr>\n    <tr>\n      <th>598</th>\n      <td>Karl</td>\n      <td>Seal</td>\n      <td>5388</td>\n    </tr>\n  </tbody>\n</table>\n<p>599 rows × 3 columns</p>\n</div>"
     },
     "execution_count": 11,
     "metadata": {},
     "output_type": "execute_result"
    }
   ],
   "source": [
    "req =  f\"\"\"select cs.first_name as first_name, cs.last_name as last_name, SUM(f.length) as sum\n",
    "            from film f\n",
    "            join inventory i on i.film_id = f.film_id\n",
    "            join rental r on r.inventory_id = i.inventory_id\n",
    "            join customer cs on cs.customer_id = r.customer_id\n",
    "            group by cs.first_name, cs.last_name\n",
    "            having SUM(f.length) > 200\n",
    "            order by sum, last_name, first_name\"\"\"\n",
    "\n",
    "pd.read_sql_query(req, con=connection)"
   ]
  },
  {
   "cell_type": "markdown",
   "metadata": {
    "collapsed": false
   },
   "source": [
    "8. Oblicz średnią wartość wypożyczenia filmu."
   ]
  },
  {
   "cell_type": "code",
   "execution_count": 12,
   "metadata": {
    "collapsed": false,
    "pycharm": {
     "name": "#%%\n"
    }
   },
   "outputs": [
    {
     "data": {
      "text/plain": "        avg\n0  4.200606",
      "text/html": "<div>\n<style scoped>\n    .dataframe tbody tr th:only-of-type {\n        vertical-align: middle;\n    }\n\n    .dataframe tbody tr th {\n        vertical-align: top;\n    }\n\n    .dataframe thead th {\n        text-align: right;\n    }\n</style>\n<table border=\"1\" class=\"dataframe\">\n  <thead>\n    <tr style=\"text-align: right;\">\n      <th></th>\n      <th>avg</th>\n    </tr>\n  </thead>\n  <tbody>\n    <tr>\n      <th>0</th>\n      <td>4.200606</td>\n    </tr>\n  </tbody>\n</table>\n</div>"
     },
     "execution_count": 12,
     "metadata": {},
     "output_type": "execute_result"
    }
   ],
   "source": [
    "req = f\"\"\"\n",
    "    select AVG(amount)\n",
    "    from payment \n",
    "\"\"\"\n",
    "\n",
    "pd.read_sql_query(req, con=connection)"
   ]
  },
  {
   "cell_type": "markdown",
   "metadata": {
    "collapsed": false
   },
   "source": [
    "9. Oblicz średnią wartość długości filmu we wszystkich kategoriach."
   ]
  },
  {
   "cell_type": "code",
   "execution_count": 13,
   "metadata": {
    "collapsed": false,
    "pycharm": {
     "name": "#%%\n"
    }
   },
   "outputs": [
    {
     "data": {
      "text/plain": "       category         avg\n0        Action  111.609375\n1     Animation  111.015152\n2      Children  109.800000\n3      Classics  111.666667\n4        Comedy  115.827586\n5   Documentary  108.750000\n6         Drama  120.838710\n7        Family  114.782609\n8       Foreign  121.698630\n9         Games  127.836066\n10       Horror  112.482143\n11        Music  113.647059\n12          New  111.126984\n13       Sci-Fi  108.196721\n14       Sports  128.202703\n15       Travel  113.315789",
      "text/html": "<div>\n<style scoped>\n    .dataframe tbody tr th:only-of-type {\n        vertical-align: middle;\n    }\n\n    .dataframe tbody tr th {\n        vertical-align: top;\n    }\n\n    .dataframe thead th {\n        text-align: right;\n    }\n</style>\n<table border=\"1\" class=\"dataframe\">\n  <thead>\n    <tr style=\"text-align: right;\">\n      <th></th>\n      <th>category</th>\n      <th>avg</th>\n    </tr>\n  </thead>\n  <tbody>\n    <tr>\n      <th>0</th>\n      <td>Action</td>\n      <td>111.609375</td>\n    </tr>\n    <tr>\n      <th>1</th>\n      <td>Animation</td>\n      <td>111.015152</td>\n    </tr>\n    <tr>\n      <th>2</th>\n      <td>Children</td>\n      <td>109.800000</td>\n    </tr>\n    <tr>\n      <th>3</th>\n      <td>Classics</td>\n      <td>111.666667</td>\n    </tr>\n    <tr>\n      <th>4</th>\n      <td>Comedy</td>\n      <td>115.827586</td>\n    </tr>\n    <tr>\n      <th>5</th>\n      <td>Documentary</td>\n      <td>108.750000</td>\n    </tr>\n    <tr>\n      <th>6</th>\n      <td>Drama</td>\n      <td>120.838710</td>\n    </tr>\n    <tr>\n      <th>7</th>\n      <td>Family</td>\n      <td>114.782609</td>\n    </tr>\n    <tr>\n      <th>8</th>\n      <td>Foreign</td>\n      <td>121.698630</td>\n    </tr>\n    <tr>\n      <th>9</th>\n      <td>Games</td>\n      <td>127.836066</td>\n    </tr>\n    <tr>\n      <th>10</th>\n      <td>Horror</td>\n      <td>112.482143</td>\n    </tr>\n    <tr>\n      <th>11</th>\n      <td>Music</td>\n      <td>113.647059</td>\n    </tr>\n    <tr>\n      <th>12</th>\n      <td>New</td>\n      <td>111.126984</td>\n    </tr>\n    <tr>\n      <th>13</th>\n      <td>Sci-Fi</td>\n      <td>108.196721</td>\n    </tr>\n    <tr>\n      <th>14</th>\n      <td>Sports</td>\n      <td>128.202703</td>\n    </tr>\n    <tr>\n      <th>15</th>\n      <td>Travel</td>\n      <td>113.315789</td>\n    </tr>\n  </tbody>\n</table>\n</div>"
     },
     "execution_count": 13,
     "metadata": {},
     "output_type": "execute_result"
    }
   ],
   "source": [
    "req = f\"\"\"select distinct cat.name as category, AVG(f.length) \n",
    "                    from film f  \n",
    "                    join film_category fc on fc.film_id = f.film_id\n",
    "                    join category cat on cat.category_id = fc.category_id  \n",
    "                    group by cat.name\"\"\"\n",
    "\n",
    "pd.read_sql_query(req, con=connection)"
   ]
  },
  {
   "cell_type": "markdown",
   "metadata": {
    "collapsed": false
   },
   "source": [
    "10. Znajdź najdłuższe tytuły filmowe we wszystkich kategoriach."
   ]
  },
  {
   "cell_type": "code",
   "execution_count": 14,
   "metadata": {
    "collapsed": false,
    "pycharm": {
     "name": "#%%\n"
    }
   },
   "outputs": [
    {
     "data": {
      "text/plain": "       category                        title  max_title_len  title_len\n0        Action      Entrapment Satisfaction             23         23\n1     Animation       Telemark Heartbreakers             22         22\n2      Children         Heartbreakers Bright             20         20\n3      Children         Microcosmos Paradise             20         20\n4      Children         Sweethearts Suspects             20         20\n5      Classics      Extraordinary Conquerer             23         23\n6        Comedy      Trainspotting Strangers             23         23\n7   Documentary       Deliverance Mulholland             22         22\n8   Documentary       Intolerable Intentions             22         22\n9         Drama       Goldfinger Sensibility             22         22\n10       Family       Resurrection Silverado             22         22\n11      Foreign         Ballroom Mockingbird             20         20\n12      Foreign         Impossible Prejudice             20         20\n13      Foreign         Reservoir Adaptation             20         20\n14        Games        Bulworth Commandments             21         21\n15        Games        Creatures Shakespeare             21         21\n16       Horror  Arachnophobia Rollercoaster             27         27\n17        Music       Confidential Interview             22         22\n18          New        Flamingos Connecticut             21         21\n19       Sci-Fi         Barbarella Streetcar             20         20\n20       Sci-Fi         Cincinatti Whisperer             20         20\n21       Sci-Fi         Silverado Goldfinger             20         20\n22       Sci-Fi         Unforgiven Zoolander             20         20\n23       Sci-Fi         Wonderland Christmas             20         20\n24       Sports    Satisfaction Confidential             25         25\n25       Travel      Desperate Trainspotting             23         23",
      "text/html": "<div>\n<style scoped>\n    .dataframe tbody tr th:only-of-type {\n        vertical-align: middle;\n    }\n\n    .dataframe tbody tr th {\n        vertical-align: top;\n    }\n\n    .dataframe thead th {\n        text-align: right;\n    }\n</style>\n<table border=\"1\" class=\"dataframe\">\n  <thead>\n    <tr style=\"text-align: right;\">\n      <th></th>\n      <th>category</th>\n      <th>title</th>\n      <th>max_title_len</th>\n      <th>title_len</th>\n    </tr>\n  </thead>\n  <tbody>\n    <tr>\n      <th>0</th>\n      <td>Action</td>\n      <td>Entrapment Satisfaction</td>\n      <td>23</td>\n      <td>23</td>\n    </tr>\n    <tr>\n      <th>1</th>\n      <td>Animation</td>\n      <td>Telemark Heartbreakers</td>\n      <td>22</td>\n      <td>22</td>\n    </tr>\n    <tr>\n      <th>2</th>\n      <td>Children</td>\n      <td>Heartbreakers Bright</td>\n      <td>20</td>\n      <td>20</td>\n    </tr>\n    <tr>\n      <th>3</th>\n      <td>Children</td>\n      <td>Microcosmos Paradise</td>\n      <td>20</td>\n      <td>20</td>\n    </tr>\n    <tr>\n      <th>4</th>\n      <td>Children</td>\n      <td>Sweethearts Suspects</td>\n      <td>20</td>\n      <td>20</td>\n    </tr>\n    <tr>\n      <th>5</th>\n      <td>Classics</td>\n      <td>Extraordinary Conquerer</td>\n      <td>23</td>\n      <td>23</td>\n    </tr>\n    <tr>\n      <th>6</th>\n      <td>Comedy</td>\n      <td>Trainspotting Strangers</td>\n      <td>23</td>\n      <td>23</td>\n    </tr>\n    <tr>\n      <th>7</th>\n      <td>Documentary</td>\n      <td>Deliverance Mulholland</td>\n      <td>22</td>\n      <td>22</td>\n    </tr>\n    <tr>\n      <th>8</th>\n      <td>Documentary</td>\n      <td>Intolerable Intentions</td>\n      <td>22</td>\n      <td>22</td>\n    </tr>\n    <tr>\n      <th>9</th>\n      <td>Drama</td>\n      <td>Goldfinger Sensibility</td>\n      <td>22</td>\n      <td>22</td>\n    </tr>\n    <tr>\n      <th>10</th>\n      <td>Family</td>\n      <td>Resurrection Silverado</td>\n      <td>22</td>\n      <td>22</td>\n    </tr>\n    <tr>\n      <th>11</th>\n      <td>Foreign</td>\n      <td>Ballroom Mockingbird</td>\n      <td>20</td>\n      <td>20</td>\n    </tr>\n    <tr>\n      <th>12</th>\n      <td>Foreign</td>\n      <td>Impossible Prejudice</td>\n      <td>20</td>\n      <td>20</td>\n    </tr>\n    <tr>\n      <th>13</th>\n      <td>Foreign</td>\n      <td>Reservoir Adaptation</td>\n      <td>20</td>\n      <td>20</td>\n    </tr>\n    <tr>\n      <th>14</th>\n      <td>Games</td>\n      <td>Bulworth Commandments</td>\n      <td>21</td>\n      <td>21</td>\n    </tr>\n    <tr>\n      <th>15</th>\n      <td>Games</td>\n      <td>Creatures Shakespeare</td>\n      <td>21</td>\n      <td>21</td>\n    </tr>\n    <tr>\n      <th>16</th>\n      <td>Horror</td>\n      <td>Arachnophobia Rollercoaster</td>\n      <td>27</td>\n      <td>27</td>\n    </tr>\n    <tr>\n      <th>17</th>\n      <td>Music</td>\n      <td>Confidential Interview</td>\n      <td>22</td>\n      <td>22</td>\n    </tr>\n    <tr>\n      <th>18</th>\n      <td>New</td>\n      <td>Flamingos Connecticut</td>\n      <td>21</td>\n      <td>21</td>\n    </tr>\n    <tr>\n      <th>19</th>\n      <td>Sci-Fi</td>\n      <td>Barbarella Streetcar</td>\n      <td>20</td>\n      <td>20</td>\n    </tr>\n    <tr>\n      <th>20</th>\n      <td>Sci-Fi</td>\n      <td>Cincinatti Whisperer</td>\n      <td>20</td>\n      <td>20</td>\n    </tr>\n    <tr>\n      <th>21</th>\n      <td>Sci-Fi</td>\n      <td>Silverado Goldfinger</td>\n      <td>20</td>\n      <td>20</td>\n    </tr>\n    <tr>\n      <th>22</th>\n      <td>Sci-Fi</td>\n      <td>Unforgiven Zoolander</td>\n      <td>20</td>\n      <td>20</td>\n    </tr>\n    <tr>\n      <th>23</th>\n      <td>Sci-Fi</td>\n      <td>Wonderland Christmas</td>\n      <td>20</td>\n      <td>20</td>\n    </tr>\n    <tr>\n      <th>24</th>\n      <td>Sports</td>\n      <td>Satisfaction Confidential</td>\n      <td>25</td>\n      <td>25</td>\n    </tr>\n    <tr>\n      <th>25</th>\n      <td>Travel</td>\n      <td>Desperate Trainspotting</td>\n      <td>23</td>\n      <td>23</td>\n    </tr>\n  </tbody>\n</table>\n</div>"
     },
     "execution_count": 14,
     "metadata": {},
     "output_type": "execute_result"
    }
   ],
   "source": [
    "req = f\"\"\"select cat.name as category, f.title, MAX(LENGTH(f.title)) as max_title_len, LENGTH(f.title) as title_len\n",
    "                    from film f\n",
    "                    join film_category fc on fc.film_id = f.film_id\n",
    "                    join category cat on cat.category_id = fc.category_id\n",
    "                    where (LENGTH(f.title), cat.name) in\n",
    "                       (SELECT MAX(LENGTH(fi.title)), cati.name\n",
    "\t                    from film fi\n",
    "                        join film_category fci on fci.film_id = fi.film_id\n",
    "                        join category cati on cati.category_id = fci.category_id\n",
    "                        group by cati.name)\n",
    "                    group by cat.name, f.title\n",
    "                    order by cat.name asc\"\"\"\n",
    "\n",
    "pd.read_sql_query(req, con=connection)"
   ]
  },
  {
   "cell_type": "markdown",
   "metadata": {
    "collapsed": false
   },
   "source": [
    "11. Znajdź najdłuższy film we wszystkich kategoriach. Porównaj wynik z pkt 10."
   ]
  },
  {
   "cell_type": "code",
   "execution_count": 15,
   "metadata": {
    "collapsed": false,
    "pycharm": {
     "name": "#%%\n"
    }
   },
   "outputs": [
    {
     "data": {
      "text/plain": "       category               title  max_film_len  film_len\n0        Action      Darn Forrester           185       185\n1        Action        Worst Banger           185       185\n2     Animation         Gangs Pride           185       185\n3     Animation        Pond Seattle           185       185\n4      Children         Fury Murder           178       178\n5      Children      Wrong Behavior           178       178\n6      Classics   Conspiracy Spirit           184       184\n7        Comedy      Control Anthem           185       185\n8   Documentary           Wife Turn           183       183\n9   Documentary      Young Language           183       183\n10        Drama       Jacket Frisco           181       181\n11       Family      King Evolution           184       184\n12      Foreign    Crystal Breaking           184       184\n13      Foreign      Sorority Queen           184       184\n14        Games       Chicago North           185       185\n15       Horror    Analyze Hoosiers           181       181\n16       Horror       Love Suicides           181       181\n17        Music           Home Pity           185       185\n18          New      Frontier Cabin           183       183\n19       Sci-Fi  Soldiers Evolution           185       185\n20       Sports     Smoochy Control           184       184\n21       Travel       Muscle Bright           185       185\n22       Travel   Sweet Brotherhood           185       185",
      "text/html": "<div>\n<style scoped>\n    .dataframe tbody tr th:only-of-type {\n        vertical-align: middle;\n    }\n\n    .dataframe tbody tr th {\n        vertical-align: top;\n    }\n\n    .dataframe thead th {\n        text-align: right;\n    }\n</style>\n<table border=\"1\" class=\"dataframe\">\n  <thead>\n    <tr style=\"text-align: right;\">\n      <th></th>\n      <th>category</th>\n      <th>title</th>\n      <th>max_film_len</th>\n      <th>film_len</th>\n    </tr>\n  </thead>\n  <tbody>\n    <tr>\n      <th>0</th>\n      <td>Action</td>\n      <td>Darn Forrester</td>\n      <td>185</td>\n      <td>185</td>\n    </tr>\n    <tr>\n      <th>1</th>\n      <td>Action</td>\n      <td>Worst Banger</td>\n      <td>185</td>\n      <td>185</td>\n    </tr>\n    <tr>\n      <th>2</th>\n      <td>Animation</td>\n      <td>Gangs Pride</td>\n      <td>185</td>\n      <td>185</td>\n    </tr>\n    <tr>\n      <th>3</th>\n      <td>Animation</td>\n      <td>Pond Seattle</td>\n      <td>185</td>\n      <td>185</td>\n    </tr>\n    <tr>\n      <th>4</th>\n      <td>Children</td>\n      <td>Fury Murder</td>\n      <td>178</td>\n      <td>178</td>\n    </tr>\n    <tr>\n      <th>5</th>\n      <td>Children</td>\n      <td>Wrong Behavior</td>\n      <td>178</td>\n      <td>178</td>\n    </tr>\n    <tr>\n      <th>6</th>\n      <td>Classics</td>\n      <td>Conspiracy Spirit</td>\n      <td>184</td>\n      <td>184</td>\n    </tr>\n    <tr>\n      <th>7</th>\n      <td>Comedy</td>\n      <td>Control Anthem</td>\n      <td>185</td>\n      <td>185</td>\n    </tr>\n    <tr>\n      <th>8</th>\n      <td>Documentary</td>\n      <td>Wife Turn</td>\n      <td>183</td>\n      <td>183</td>\n    </tr>\n    <tr>\n      <th>9</th>\n      <td>Documentary</td>\n      <td>Young Language</td>\n      <td>183</td>\n      <td>183</td>\n    </tr>\n    <tr>\n      <th>10</th>\n      <td>Drama</td>\n      <td>Jacket Frisco</td>\n      <td>181</td>\n      <td>181</td>\n    </tr>\n    <tr>\n      <th>11</th>\n      <td>Family</td>\n      <td>King Evolution</td>\n      <td>184</td>\n      <td>184</td>\n    </tr>\n    <tr>\n      <th>12</th>\n      <td>Foreign</td>\n      <td>Crystal Breaking</td>\n      <td>184</td>\n      <td>184</td>\n    </tr>\n    <tr>\n      <th>13</th>\n      <td>Foreign</td>\n      <td>Sorority Queen</td>\n      <td>184</td>\n      <td>184</td>\n    </tr>\n    <tr>\n      <th>14</th>\n      <td>Games</td>\n      <td>Chicago North</td>\n      <td>185</td>\n      <td>185</td>\n    </tr>\n    <tr>\n      <th>15</th>\n      <td>Horror</td>\n      <td>Analyze Hoosiers</td>\n      <td>181</td>\n      <td>181</td>\n    </tr>\n    <tr>\n      <th>16</th>\n      <td>Horror</td>\n      <td>Love Suicides</td>\n      <td>181</td>\n      <td>181</td>\n    </tr>\n    <tr>\n      <th>17</th>\n      <td>Music</td>\n      <td>Home Pity</td>\n      <td>185</td>\n      <td>185</td>\n    </tr>\n    <tr>\n      <th>18</th>\n      <td>New</td>\n      <td>Frontier Cabin</td>\n      <td>183</td>\n      <td>183</td>\n    </tr>\n    <tr>\n      <th>19</th>\n      <td>Sci-Fi</td>\n      <td>Soldiers Evolution</td>\n      <td>185</td>\n      <td>185</td>\n    </tr>\n    <tr>\n      <th>20</th>\n      <td>Sports</td>\n      <td>Smoochy Control</td>\n      <td>184</td>\n      <td>184</td>\n    </tr>\n    <tr>\n      <th>21</th>\n      <td>Travel</td>\n      <td>Muscle Bright</td>\n      <td>185</td>\n      <td>185</td>\n    </tr>\n    <tr>\n      <th>22</th>\n      <td>Travel</td>\n      <td>Sweet Brotherhood</td>\n      <td>185</td>\n      <td>185</td>\n    </tr>\n  </tbody>\n</table>\n</div>"
     },
     "execution_count": 15,
     "metadata": {},
     "output_type": "execute_result"
    }
   ],
   "source": [
    "req = f\"\"\"select cat.name as category, f.title, MAX(f.length) as max_film_len, f.length as film_len\n",
    "                    from film f\n",
    "                    join film_category fc on fc.film_id = f.film_id\n",
    "                    join category cat on cat.category_id = fc.category_id\n",
    "                    where (f.length, cat.name) in\n",
    "                       (SELECT MAX(fi.length), cati.name\n",
    "\t                    from film fi\n",
    "                        join film_category fci on fci.film_id = fi.film_id\n",
    "                        join category cati on cati.category_id = fci.category_id\n",
    "                        group by cati.name)\n",
    "                    group by cat.name, f.title, f.length\n",
    "                    order by cat.name asc\"\"\"\n",
    "\n",
    "pd.read_sql_query(req, con=connection)"
   ]
  },
  {
   "cell_type": "markdown",
   "metadata": {},
   "source": [
    "## Zadanie implementacyjne\n",
    "Zaimplementuj wszystkie funkcje w pliku main.py zgodnie z opisem a następnie przetestuj je w notatniku."
   ]
  },
  {
   "cell_type": "code",
   "execution_count": 16,
   "metadata": {},
   "outputs": [],
   "source": [
    "from main import *"
   ]
  },
  {
   "cell_type": "markdown",
   "source": [
    "```film_in_category(category_id:int)->pd.DataFrame```"
   ],
   "metadata": {
    "collapsed": false,
    "pycharm": {
     "name": "#%% md\n"
    }
   }
  },
  {
   "cell_type": "code",
   "execution_count": 17,
   "outputs": [
    {
     "data": {
      "text/plain": "                     title               languge category\n0           Alaska Phantom  English                 Music\n1               Alone Trip  English                 Music\n2      Amelie Hellfighters  English                 Music\n3         Balloon Homeward  English                 Music\n4         Banger Pinocchio  English                 Music\n5          Birch Antitrust  English                 Music\n6          Birdcage Casper  English                 Music\n7            Boogie Amelie  English                 Music\n8          Chamber Italian  English                 Music\n9         Clones Pinocchio  English                 Music\n10              Clue Grail  English                 Music\n11  Confidential Interview  English                 Music\n12          Deer Virginian  English                 Music\n13          Dorado Notting  English                 Music\n14          Driving Polish  English                 Music\n15              Elf Murder  English                 Music\n16              Enemy Odds  English                 Music\n17            Freaky Pocus  English                 Music\n18               Go Purple  English                 Music\n19          Greatest North  English                 Music\n20        Grosse Wonderful  English                 Music\n21          Hanover Galaxy  English                 Music\n22            Heavenly Gun  English                 Music\n23               Home Pity  English                 Music\n24          Impact Aladdin  English                 Music\n25         Insider Arizona  English                 Music\n26     Jawbreaker Brooklyn  English                 Music\n27             Legend Jedi  English                 Music\n28            Lucky Flying  English                 Music\n29           Masked Bubble  English                 Music\n30           Minority Kiss  English                 Music\n31       Monster Spartacus  English                 Music\n32           Oleander Clue  English                 Music\n33       Outfield Massacre  English                 Music\n34       Personal Ladybugs  English                 Music\n35           Rebel Airport  English                 Music\n36              Reds Pocus  English                 Music\n37              Roman Punk  English                 Music\n38          Runner Madigan  English                 Music\n39           Scalawag Duck  English                 Music\n40            Silence Kane  English                 Music\n41             Song Hedwig  English                 Music\n42               Taxi Kick  English                 Music\n43        Telegraph Voyage  English                 Music\n44         Terminator Club  English                 Music\n45          Uncut Suicides  English                 Music\n46         Vanishing Rocky  English                 Music\n47      Wizard Coldblooded  English                 Music\n48               Won Dares  English                 Music\n49            Words Hunter  English                 Music\n50              Youth Kick  English                 Music",
      "text/html": "<div>\n<style scoped>\n    .dataframe tbody tr th:only-of-type {\n        vertical-align: middle;\n    }\n\n    .dataframe tbody tr th {\n        vertical-align: top;\n    }\n\n    .dataframe thead th {\n        text-align: right;\n    }\n</style>\n<table border=\"1\" class=\"dataframe\">\n  <thead>\n    <tr style=\"text-align: right;\">\n      <th></th>\n      <th>title</th>\n      <th>languge</th>\n      <th>category</th>\n    </tr>\n  </thead>\n  <tbody>\n    <tr>\n      <th>0</th>\n      <td>Alaska Phantom</td>\n      <td>English</td>\n      <td>Music</td>\n    </tr>\n    <tr>\n      <th>1</th>\n      <td>Alone Trip</td>\n      <td>English</td>\n      <td>Music</td>\n    </tr>\n    <tr>\n      <th>2</th>\n      <td>Amelie Hellfighters</td>\n      <td>English</td>\n      <td>Music</td>\n    </tr>\n    <tr>\n      <th>3</th>\n      <td>Balloon Homeward</td>\n      <td>English</td>\n      <td>Music</td>\n    </tr>\n    <tr>\n      <th>4</th>\n      <td>Banger Pinocchio</td>\n      <td>English</td>\n      <td>Music</td>\n    </tr>\n    <tr>\n      <th>5</th>\n      <td>Birch Antitrust</td>\n      <td>English</td>\n      <td>Music</td>\n    </tr>\n    <tr>\n      <th>6</th>\n      <td>Birdcage Casper</td>\n      <td>English</td>\n      <td>Music</td>\n    </tr>\n    <tr>\n      <th>7</th>\n      <td>Boogie Amelie</td>\n      <td>English</td>\n      <td>Music</td>\n    </tr>\n    <tr>\n      <th>8</th>\n      <td>Chamber Italian</td>\n      <td>English</td>\n      <td>Music</td>\n    </tr>\n    <tr>\n      <th>9</th>\n      <td>Clones Pinocchio</td>\n      <td>English</td>\n      <td>Music</td>\n    </tr>\n    <tr>\n      <th>10</th>\n      <td>Clue Grail</td>\n      <td>English</td>\n      <td>Music</td>\n    </tr>\n    <tr>\n      <th>11</th>\n      <td>Confidential Interview</td>\n      <td>English</td>\n      <td>Music</td>\n    </tr>\n    <tr>\n      <th>12</th>\n      <td>Deer Virginian</td>\n      <td>English</td>\n      <td>Music</td>\n    </tr>\n    <tr>\n      <th>13</th>\n      <td>Dorado Notting</td>\n      <td>English</td>\n      <td>Music</td>\n    </tr>\n    <tr>\n      <th>14</th>\n      <td>Driving Polish</td>\n      <td>English</td>\n      <td>Music</td>\n    </tr>\n    <tr>\n      <th>15</th>\n      <td>Elf Murder</td>\n      <td>English</td>\n      <td>Music</td>\n    </tr>\n    <tr>\n      <th>16</th>\n      <td>Enemy Odds</td>\n      <td>English</td>\n      <td>Music</td>\n    </tr>\n    <tr>\n      <th>17</th>\n      <td>Freaky Pocus</td>\n      <td>English</td>\n      <td>Music</td>\n    </tr>\n    <tr>\n      <th>18</th>\n      <td>Go Purple</td>\n      <td>English</td>\n      <td>Music</td>\n    </tr>\n    <tr>\n      <th>19</th>\n      <td>Greatest North</td>\n      <td>English</td>\n      <td>Music</td>\n    </tr>\n    <tr>\n      <th>20</th>\n      <td>Grosse Wonderful</td>\n      <td>English</td>\n      <td>Music</td>\n    </tr>\n    <tr>\n      <th>21</th>\n      <td>Hanover Galaxy</td>\n      <td>English</td>\n      <td>Music</td>\n    </tr>\n    <tr>\n      <th>22</th>\n      <td>Heavenly Gun</td>\n      <td>English</td>\n      <td>Music</td>\n    </tr>\n    <tr>\n      <th>23</th>\n      <td>Home Pity</td>\n      <td>English</td>\n      <td>Music</td>\n    </tr>\n    <tr>\n      <th>24</th>\n      <td>Impact Aladdin</td>\n      <td>English</td>\n      <td>Music</td>\n    </tr>\n    <tr>\n      <th>25</th>\n      <td>Insider Arizona</td>\n      <td>English</td>\n      <td>Music</td>\n    </tr>\n    <tr>\n      <th>26</th>\n      <td>Jawbreaker Brooklyn</td>\n      <td>English</td>\n      <td>Music</td>\n    </tr>\n    <tr>\n      <th>27</th>\n      <td>Legend Jedi</td>\n      <td>English</td>\n      <td>Music</td>\n    </tr>\n    <tr>\n      <th>28</th>\n      <td>Lucky Flying</td>\n      <td>English</td>\n      <td>Music</td>\n    </tr>\n    <tr>\n      <th>29</th>\n      <td>Masked Bubble</td>\n      <td>English</td>\n      <td>Music</td>\n    </tr>\n    <tr>\n      <th>30</th>\n      <td>Minority Kiss</td>\n      <td>English</td>\n      <td>Music</td>\n    </tr>\n    <tr>\n      <th>31</th>\n      <td>Monster Spartacus</td>\n      <td>English</td>\n      <td>Music</td>\n    </tr>\n    <tr>\n      <th>32</th>\n      <td>Oleander Clue</td>\n      <td>English</td>\n      <td>Music</td>\n    </tr>\n    <tr>\n      <th>33</th>\n      <td>Outfield Massacre</td>\n      <td>English</td>\n      <td>Music</td>\n    </tr>\n    <tr>\n      <th>34</th>\n      <td>Personal Ladybugs</td>\n      <td>English</td>\n      <td>Music</td>\n    </tr>\n    <tr>\n      <th>35</th>\n      <td>Rebel Airport</td>\n      <td>English</td>\n      <td>Music</td>\n    </tr>\n    <tr>\n      <th>36</th>\n      <td>Reds Pocus</td>\n      <td>English</td>\n      <td>Music</td>\n    </tr>\n    <tr>\n      <th>37</th>\n      <td>Roman Punk</td>\n      <td>English</td>\n      <td>Music</td>\n    </tr>\n    <tr>\n      <th>38</th>\n      <td>Runner Madigan</td>\n      <td>English</td>\n      <td>Music</td>\n    </tr>\n    <tr>\n      <th>39</th>\n      <td>Scalawag Duck</td>\n      <td>English</td>\n      <td>Music</td>\n    </tr>\n    <tr>\n      <th>40</th>\n      <td>Silence Kane</td>\n      <td>English</td>\n      <td>Music</td>\n    </tr>\n    <tr>\n      <th>41</th>\n      <td>Song Hedwig</td>\n      <td>English</td>\n      <td>Music</td>\n    </tr>\n    <tr>\n      <th>42</th>\n      <td>Taxi Kick</td>\n      <td>English</td>\n      <td>Music</td>\n    </tr>\n    <tr>\n      <th>43</th>\n      <td>Telegraph Voyage</td>\n      <td>English</td>\n      <td>Music</td>\n    </tr>\n    <tr>\n      <th>44</th>\n      <td>Terminator Club</td>\n      <td>English</td>\n      <td>Music</td>\n    </tr>\n    <tr>\n      <th>45</th>\n      <td>Uncut Suicides</td>\n      <td>English</td>\n      <td>Music</td>\n    </tr>\n    <tr>\n      <th>46</th>\n      <td>Vanishing Rocky</td>\n      <td>English</td>\n      <td>Music</td>\n    </tr>\n    <tr>\n      <th>47</th>\n      <td>Wizard Coldblooded</td>\n      <td>English</td>\n      <td>Music</td>\n    </tr>\n    <tr>\n      <th>48</th>\n      <td>Won Dares</td>\n      <td>English</td>\n      <td>Music</td>\n    </tr>\n    <tr>\n      <th>49</th>\n      <td>Words Hunter</td>\n      <td>English</td>\n      <td>Music</td>\n    </tr>\n    <tr>\n      <th>50</th>\n      <td>Youth Kick</td>\n      <td>English</td>\n      <td>Music</td>\n    </tr>\n  </tbody>\n</table>\n</div>"
     },
     "execution_count": 17,
     "metadata": {},
     "output_type": "execute_result"
    }
   ],
   "source": [
    "film_in_category(12)"
   ],
   "metadata": {
    "collapsed": false,
    "pycharm": {
     "name": "#%%\n"
    }
   }
  },
  {
   "cell_type": "markdown",
   "source": [
    "```number_films_in_category(category_id:int)->pd.DataFrame```"
   ],
   "metadata": {
    "collapsed": false,
    "pycharm": {
     "name": "#%% md\n"
    }
   }
  },
  {
   "cell_type": "code",
   "execution_count": 18,
   "outputs": [
    {
     "data": {
      "text/plain": "    category  count\n0  Animation     66",
      "text/html": "<div>\n<style scoped>\n    .dataframe tbody tr th:only-of-type {\n        vertical-align: middle;\n    }\n\n    .dataframe tbody tr th {\n        vertical-align: top;\n    }\n\n    .dataframe thead th {\n        text-align: right;\n    }\n</style>\n<table border=\"1\" class=\"dataframe\">\n  <thead>\n    <tr style=\"text-align: right;\">\n      <th></th>\n      <th>category</th>\n      <th>count</th>\n    </tr>\n  </thead>\n  <tbody>\n    <tr>\n      <th>0</th>\n      <td>Animation</td>\n      <td>66</td>\n    </tr>\n  </tbody>\n</table>\n</div>"
     },
     "execution_count": 18,
     "metadata": {},
     "output_type": "execute_result"
    }
   ],
   "source": [
    "number_films_in_category(2)"
   ],
   "metadata": {
    "collapsed": false,
    "pycharm": {
     "name": "#%%\n"
    }
   }
  },
  {
   "cell_type": "markdown",
   "source": [
    "```number_film_by_length(min_length: Union[int,float] = 0, max_length: Union[int,float] = 1e6 )```"
   ],
   "metadata": {
    "collapsed": false,
    "pycharm": {
     "name": "#%% md\n"
    }
   }
  },
  {
   "cell_type": "code",
   "execution_count": 19,
   "outputs": [
    {
     "data": {
      "text/plain": "    length  count\n0       80     10\n1       81      3\n2       82      7\n3       83      6\n4       84     13\n5       85     17\n6       86      5\n7       87      6\n8       88      4\n9       89      6\n10      90      5\n11      91      6\n12      92     11\n13      93      8\n14      94      4\n15      95      2\n16      96      2\n17      97      4\n18      98      8\n19      99      8\n20     100     12",
      "text/html": "<div>\n<style scoped>\n    .dataframe tbody tr th:only-of-type {\n        vertical-align: middle;\n    }\n\n    .dataframe tbody tr th {\n        vertical-align: top;\n    }\n\n    .dataframe thead th {\n        text-align: right;\n    }\n</style>\n<table border=\"1\" class=\"dataframe\">\n  <thead>\n    <tr style=\"text-align: right;\">\n      <th></th>\n      <th>length</th>\n      <th>count</th>\n    </tr>\n  </thead>\n  <tbody>\n    <tr>\n      <th>0</th>\n      <td>80</td>\n      <td>10</td>\n    </tr>\n    <tr>\n      <th>1</th>\n      <td>81</td>\n      <td>3</td>\n    </tr>\n    <tr>\n      <th>2</th>\n      <td>82</td>\n      <td>7</td>\n    </tr>\n    <tr>\n      <th>3</th>\n      <td>83</td>\n      <td>6</td>\n    </tr>\n    <tr>\n      <th>4</th>\n      <td>84</td>\n      <td>13</td>\n    </tr>\n    <tr>\n      <th>5</th>\n      <td>85</td>\n      <td>17</td>\n    </tr>\n    <tr>\n      <th>6</th>\n      <td>86</td>\n      <td>5</td>\n    </tr>\n    <tr>\n      <th>7</th>\n      <td>87</td>\n      <td>6</td>\n    </tr>\n    <tr>\n      <th>8</th>\n      <td>88</td>\n      <td>4</td>\n    </tr>\n    <tr>\n      <th>9</th>\n      <td>89</td>\n      <td>6</td>\n    </tr>\n    <tr>\n      <th>10</th>\n      <td>90</td>\n      <td>5</td>\n    </tr>\n    <tr>\n      <th>11</th>\n      <td>91</td>\n      <td>6</td>\n    </tr>\n    <tr>\n      <th>12</th>\n      <td>92</td>\n      <td>11</td>\n    </tr>\n    <tr>\n      <th>13</th>\n      <td>93</td>\n      <td>8</td>\n    </tr>\n    <tr>\n      <th>14</th>\n      <td>94</td>\n      <td>4</td>\n    </tr>\n    <tr>\n      <th>15</th>\n      <td>95</td>\n      <td>2</td>\n    </tr>\n    <tr>\n      <th>16</th>\n      <td>96</td>\n      <td>2</td>\n    </tr>\n    <tr>\n      <th>17</th>\n      <td>97</td>\n      <td>4</td>\n    </tr>\n    <tr>\n      <th>18</th>\n      <td>98</td>\n      <td>8</td>\n    </tr>\n    <tr>\n      <th>19</th>\n      <td>99</td>\n      <td>8</td>\n    </tr>\n    <tr>\n      <th>20</th>\n      <td>100</td>\n      <td>12</td>\n    </tr>\n  </tbody>\n</table>\n</div>"
     },
     "execution_count": 19,
     "metadata": {},
     "output_type": "execute_result"
    }
   ],
   "source": [
    "number_film_by_length(80, 100.5)"
   ],
   "metadata": {
    "collapsed": false,
    "pycharm": {
     "name": "#%%\n"
    }
   }
  },
  {
   "cell_type": "markdown",
   "source": [
    "```client_from_city(city:str)->pd.DataFrame```"
   ],
   "metadata": {
    "collapsed": false,
    "pycharm": {
     "name": "#%% md\n"
    }
   }
  },
  {
   "cell_type": "code",
   "execution_count": 20,
   "outputs": [
    {
     "data": {
      "text/plain": "     city first_name last_name\n0  London      Cecil     Vines\n1  London     Mattie   Hoffman",
      "text/html": "<div>\n<style scoped>\n    .dataframe tbody tr th:only-of-type {\n        vertical-align: middle;\n    }\n\n    .dataframe tbody tr th {\n        vertical-align: top;\n    }\n\n    .dataframe thead th {\n        text-align: right;\n    }\n</style>\n<table border=\"1\" class=\"dataframe\">\n  <thead>\n    <tr style=\"text-align: right;\">\n      <th></th>\n      <th>city</th>\n      <th>first_name</th>\n      <th>last_name</th>\n    </tr>\n  </thead>\n  <tbody>\n    <tr>\n      <th>0</th>\n      <td>London</td>\n      <td>Cecil</td>\n      <td>Vines</td>\n    </tr>\n    <tr>\n      <th>1</th>\n      <td>London</td>\n      <td>Mattie</td>\n      <td>Hoffman</td>\n    </tr>\n  </tbody>\n</table>\n</div>"
     },
     "execution_count": 20,
     "metadata": {},
     "output_type": "execute_result"
    }
   ],
   "source": [
    "client_from_city('London')"
   ],
   "metadata": {
    "collapsed": false,
    "pycharm": {
     "name": "#%%\n"
    }
   }
  },
  {
   "cell_type": "markdown",
   "source": [
    "```avg_amount_by_length(length:Union[int,float])->pd.DataFrame```"
   ],
   "metadata": {
    "collapsed": false,
    "pycharm": {
     "name": "#%% md\n"
    }
   }
  },
  {
   "cell_type": "code",
   "execution_count": 21,
   "outputs": [
    {
     "data": {
      "text/plain": "   length      avg\n0      80  5.48359",
      "text/html": "<div>\n<style scoped>\n    .dataframe tbody tr th:only-of-type {\n        vertical-align: middle;\n    }\n\n    .dataframe tbody tr th {\n        vertical-align: top;\n    }\n\n    .dataframe thead th {\n        text-align: right;\n    }\n</style>\n<table border=\"1\" class=\"dataframe\">\n  <thead>\n    <tr style=\"text-align: right;\">\n      <th></th>\n      <th>length</th>\n      <th>avg</th>\n    </tr>\n  </thead>\n  <tbody>\n    <tr>\n      <th>0</th>\n      <td>80</td>\n      <td>5.48359</td>\n    </tr>\n  </tbody>\n</table>\n</div>"
     },
     "execution_count": 21,
     "metadata": {},
     "output_type": "execute_result"
    }
   ],
   "source": [
    "avg_amount_by_length(80)"
   ],
   "metadata": {
    "collapsed": false,
    "pycharm": {
     "name": "#%%\n"
    }
   }
  },
  {
   "cell_type": "markdown",
   "source": [
    "```client_by_sum_length(sum_min:Union[int,float])->pd.DataFrame```"
   ],
   "metadata": {
    "collapsed": false,
    "pycharm": {
     "name": "#%% md\n"
    }
   }
  },
  {
   "cell_type": "code",
   "execution_count": 22,
   "outputs": [
    {
     "data": {
      "text/plain": "    first_name last_name   sum\n0        Brian     Wyman  1265\n1      Antonio      Meek  1451\n2        Leona    Obrien  1588\n3    Katherine    Rivera  1615\n4      Tiffany    Jordan  1667\n..         ...       ...   ...\n594     Wesley      Bull  4808\n595      Clara      Shaw  4808\n596      Tammy   Sanders  5065\n597    Eleanor      Hunt  5360\n598       Karl      Seal  5388\n\n[599 rows x 3 columns]",
      "text/html": "<div>\n<style scoped>\n    .dataframe tbody tr th:only-of-type {\n        vertical-align: middle;\n    }\n\n    .dataframe tbody tr th {\n        vertical-align: top;\n    }\n\n    .dataframe thead th {\n        text-align: right;\n    }\n</style>\n<table border=\"1\" class=\"dataframe\">\n  <thead>\n    <tr style=\"text-align: right;\">\n      <th></th>\n      <th>first_name</th>\n      <th>last_name</th>\n      <th>sum</th>\n    </tr>\n  </thead>\n  <tbody>\n    <tr>\n      <th>0</th>\n      <td>Brian</td>\n      <td>Wyman</td>\n      <td>1265</td>\n    </tr>\n    <tr>\n      <th>1</th>\n      <td>Antonio</td>\n      <td>Meek</td>\n      <td>1451</td>\n    </tr>\n    <tr>\n      <th>2</th>\n      <td>Leona</td>\n      <td>Obrien</td>\n      <td>1588</td>\n    </tr>\n    <tr>\n      <th>3</th>\n      <td>Katherine</td>\n      <td>Rivera</td>\n      <td>1615</td>\n    </tr>\n    <tr>\n      <th>4</th>\n      <td>Tiffany</td>\n      <td>Jordan</td>\n      <td>1667</td>\n    </tr>\n    <tr>\n      <th>...</th>\n      <td>...</td>\n      <td>...</td>\n      <td>...</td>\n    </tr>\n    <tr>\n      <th>594</th>\n      <td>Wesley</td>\n      <td>Bull</td>\n      <td>4808</td>\n    </tr>\n    <tr>\n      <th>595</th>\n      <td>Clara</td>\n      <td>Shaw</td>\n      <td>4808</td>\n    </tr>\n    <tr>\n      <th>596</th>\n      <td>Tammy</td>\n      <td>Sanders</td>\n      <td>5065</td>\n    </tr>\n    <tr>\n      <th>597</th>\n      <td>Eleanor</td>\n      <td>Hunt</td>\n      <td>5360</td>\n    </tr>\n    <tr>\n      <th>598</th>\n      <td>Karl</td>\n      <td>Seal</td>\n      <td>5388</td>\n    </tr>\n  </tbody>\n</table>\n<p>599 rows × 3 columns</p>\n</div>"
     },
     "execution_count": 22,
     "metadata": {},
     "output_type": "execute_result"
    }
   ],
   "source": [
    "client_by_sum_length(1000)"
   ],
   "metadata": {
    "collapsed": false,
    "pycharm": {
     "name": "#%%\n"
    }
   }
  },
  {
   "cell_type": "markdown",
   "source": [
    "```category_statistic_length(name:str)->pd.DataFrame)```"
   ],
   "metadata": {
    "collapsed": false,
    "pycharm": {
     "name": "#%% md\n"
    }
   }
  },
  {
   "cell_type": "code",
   "execution_count": 23,
   "outputs": [
    {
     "data": {
      "text/plain": "  category         avg   sum  min  max\n0   Sports  128.202703  9487   47  184",
      "text/html": "<div>\n<style scoped>\n    .dataframe tbody tr th:only-of-type {\n        vertical-align: middle;\n    }\n\n    .dataframe tbody tr th {\n        vertical-align: top;\n    }\n\n    .dataframe thead th {\n        text-align: right;\n    }\n</style>\n<table border=\"1\" class=\"dataframe\">\n  <thead>\n    <tr style=\"text-align: right;\">\n      <th></th>\n      <th>category</th>\n      <th>avg</th>\n      <th>sum</th>\n      <th>min</th>\n      <th>max</th>\n    </tr>\n  </thead>\n  <tbody>\n    <tr>\n      <th>0</th>\n      <td>Sports</td>\n      <td>128.202703</td>\n      <td>9487</td>\n      <td>47</td>\n      <td>184</td>\n    </tr>\n  </tbody>\n</table>\n</div>"
     },
     "execution_count": 23,
     "metadata": {},
     "output_type": "execute_result"
    }
   ],
   "source": [
    "category_statistic_length('Sports')"
   ],
   "metadata": {
    "collapsed": false,
    "pycharm": {
     "name": "#%%\n"
    }
   }
  }
 ],
 "metadata": {
  "interpreter": {
   "hash": "ce351321b73b1ee23d5d5c20cae8a55cecbb551625fe12e8df9c1045c7307270"
  },
  "kernelspec": {
   "name": "python3",
   "language": "python",
   "display_name": "Python 3 (ipykernel)"
  },
  "language_info": {
   "codemirror_mode": {
    "name": "ipython",
    "version": 3
   },
   "file_extension": ".py",
   "mimetype": "text/x-python",
   "name": "python",
   "nbconvert_exporter": "python",
   "pygments_lexer": "ipython3",
   "version": "3.9.4"
  }
 },
 "nbformat": 4,
 "nbformat_minor": 2
}